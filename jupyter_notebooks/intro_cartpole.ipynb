{
  "nbformat": 4,
  "nbformat_minor": 0,
  "metadata": {
    "accelerator": "TPU",
    "colab": {
      "name": "easyagents_cartpole.ipynb",
      "provenance": [],
      "collapsed_sections": []
    },
    "kernelspec": {
      "display_name": "Python 3",
      "language": "python",
      "name": "python3"
    },
    "language_info": {
      "codemirror_mode": {
        "name": "ipython",
        "version": 3
      },
      "file_extension": ".py",
      "mimetype": "text/x-python",
      "name": "python",
      "nbconvert_exporter": "python",
      "pygments_lexer": "ipython3",
      "version": "3.7.5"
    },
    "pycharm": {
      "stem_cell": {
        "cell_type": "raw",
        "metadata": {
          "collapsed": false
        },
        "source": []
      }
    }
  },
  "cells": [
    {
      "cell_type": "markdown",
      "metadata": {
        "id": "itbylRO_XSzd"
      },
      "source": [
        "# Colab: a Jupyter Notebook"
      ]
    },
    {
      "cell_type": "code",
      "metadata": {
        "colab": {
          "base_uri": "https://localhost:8080/"
        },
        "id": "Zvlnq7vkc3Oq",
        "outputId": "c6059a30-5b4b-4589-f1a9-c9536e5734de"
      },
      "source": [
        "1+1"
      ],
      "execution_count": 1,
      "outputs": [
        {
          "output_type": "execute_result",
          "data": {
            "text/plain": [
              "2"
            ]
          },
          "metadata": {
            "tags": []
          },
          "execution_count": 1
        }
      ]
    },
    {
      "cell_type": "markdown",
      "metadata": {
        "id": "pNYiH3PndKnb"
      },
      "source": [
        "Hello I am a text: 1+1"
      ]
    },
    {
      "cell_type": "code",
      "metadata": {
        "colab": {
          "base_uri": "https://localhost:8080/"
        },
        "id": "PwO9jrgHdDz5",
        "outputId": "31753932-4830-4307-c071-9e493c91b08d"
      },
      "source": [
        "fruits = [\"apple\", \"banana\", \"cherry\"]\n",
        "for x in fruits:\n",
        "  print(x)"
      ],
      "execution_count": 2,
      "outputs": [
        {
          "output_type": "stream",
          "text": [
            "apple\n",
            "banana\n",
            "cherry\n"
          ],
          "name": "stdout"
        }
      ]
    },
    {
      "cell_type": "markdown",
      "metadata": {
        "id": "TP-HNOh9ei0N"
      },
      "source": [
        "Image"
      ]
    },
    {
      "cell_type": "markdown",
      "metadata": {
        "id": "JszJwM7GXkFK"
      },
      "source": [
        "## Install packages (gym, tfagents, tensorflow,....)"
      ]
    },
    {
      "cell_type": "markdown",
      "metadata": {
        "id": "wW8cgQG0bT3E"
      },
      "source": [
        "#### suppress package warnings, prepare matplotlib, if in colab: load additional packages for rendering"
      ]
    },
    {
      "cell_type": "code",
      "metadata": {
        "pycharm": {
          "is_executing": false
        },
        "id": "FkQUhd0bbT3G"
      },
      "source": [
        "%matplotlib inline\n",
        "import matplotlib.pyplot as plt\n",
        "import sys\n",
        "import warnings\n",
        "warnings.filterwarnings('ignore')\n",
        "\n",
        "if 'google.colab' in sys.modules:\n",
        "    !apt-get update >/dev/null\n",
        "    !apt-get install xvfb >/dev/null\n",
        "    !pip install pyvirtualdisplay >/dev/null    \n",
        "    \n",
        "    from pyvirtualdisplay import Display\n",
        "    Display(visible=0, size=(960, 720)).start()    \n",
        "else:\n",
        "    #  for local installation\n",
        "    sys.path.append('..')"
      ],
      "execution_count": 3,
      "outputs": []
    },
    {
      "cell_type": "markdown",
      "metadata": {
        "id": "ZbCZOE1sbT3J"
      },
      "source": [
        "#### install easyagents"
      ]
    },
    {
      "cell_type": "code",
      "metadata": {
        "id": "C-jRHCOPW56b",
        "pycharm": {
          "is_executing": false
        }
      },
      "source": [
        "import sys\n",
        "if 'google.colab' in sys.modules:\n",
        "    !pip install easyagents >/dev/null"
      ],
      "execution_count": 4,
      "outputs": []
    },
    {
      "cell_type": "markdown",
      "metadata": {
        "id": "-isUk_rPdXxV"
      },
      "source": [
        "# Our Goal"
      ]
    },
    {
      "cell_type": "markdown",
      "metadata": {
        "id": "0cw9tXkXeszg"
      },
      "source": [
        "## Step 1: Play the Game"
      ]
    },
    {
      "cell_type": "code",
      "metadata": {
        "id": "Erklr6B6e5hl"
      },
      "source": [
        "import gym\n",
        "\n",
        "env = gym.make(\"CartPole-v1\")"
      ],
      "execution_count": 5,
      "outputs": []
    },
    {
      "cell_type": "code",
      "metadata": {
        "colab": {
          "base_uri": "https://localhost:8080/"
        },
        "id": "Nnq_4DQafcu4",
        "outputId": "5baa260d-9729-4a14-a2fa-b8a0db79e00e"
      },
      "source": [
        "env.reset()"
      ],
      "execution_count": 6,
      "outputs": [
        {
          "output_type": "execute_result",
          "data": {
            "text/plain": [
              "array([ 0.03357613,  0.01221862, -0.04673739,  0.02324534])"
            ]
          },
          "metadata": {
            "tags": []
          },
          "execution_count": 6
        }
      ]
    },
    {
      "cell_type": "code",
      "metadata": {
        "colab": {
          "base_uri": "https://localhost:8080/"
        },
        "id": "e1dvkhHpgNXa",
        "outputId": "6e5e008b-320f-422b-b5e8-1c9dbc9f0220"
      },
      "source": [
        "env.step(1)"
      ],
      "execution_count": 7,
      "outputs": [
        {
          "output_type": "execute_result",
          "data": {
            "text/plain": [
              "(array([ 0.0338205 ,  0.20797858, -0.04627248, -0.28380975]), 1.0, False, {})"
            ]
          },
          "metadata": {
            "tags": []
          },
          "execution_count": 7
        }
      ]
    },
    {
      "cell_type": "code",
      "metadata": {
        "colab": {
          "base_uri": "https://localhost:8080/"
        },
        "id": "7uP2aKXunmpS",
        "outputId": "1ad4fd39-fa05-4c9a-c5df-9b9e101230fa"
      },
      "source": [
        "env.action_space.n"
      ],
      "execution_count": 8,
      "outputs": [
        {
          "output_type": "execute_result",
          "data": {
            "text/plain": [
              "2"
            ]
          },
          "metadata": {
            "tags": []
          },
          "execution_count": 8
        }
      ]
    },
    {
      "cell_type": "code",
      "metadata": {
        "colab": {
          "base_uri": "https://localhost:8080/"
        },
        "id": "cU-JowxYnV70",
        "outputId": "78f9d3eb-3707-4ae6-f486-606d3a76259a"
      },
      "source": [
        "env.observation_space.shape[0]"
      ],
      "execution_count": 9,
      "outputs": [
        {
          "output_type": "execute_result",
          "data": {
            "text/plain": [
              "4"
            ]
          },
          "metadata": {
            "tags": []
          },
          "execution_count": 9
        }
      ]
    },
    {
      "cell_type": "code",
      "metadata": {
        "colab": {
          "base_uri": "https://localhost:8080/"
        },
        "id": "3JY5D4mNhONv",
        "outputId": "59d9f4cf-f68c-408f-fe04-7d4a6122de91"
      },
      "source": [
        "done = False\n",
        "rewards = 0\n",
        "env.reset()"
      ],
      "execution_count": 10,
      "outputs": [
        {
          "output_type": "execute_result",
          "data": {
            "text/plain": [
              "array([-0.04023782,  0.02834233,  0.04037247, -0.04887779])"
            ]
          },
          "metadata": {
            "tags": []
          },
          "execution_count": 10
        }
      ]
    },
    {
      "cell_type": "code",
      "metadata": {
        "colab": {
          "base_uri": "https://localhost:8080/"
        },
        "id": "ZebzYf7OlOLf",
        "outputId": "d532bcf6-7d22-49e5-f3d1-dffc0dc36d29"
      },
      "source": [
        "(observation,reward,done,info)=env.step(1)\n",
        "rewards += reward\n",
        "print( \"rewards=\", rewards, \"observation=\", observation )\n",
        "if done:\n",
        "  print( \"--- game over ---\" )"
      ],
      "execution_count": 11,
      "outputs": [
        {
          "output_type": "stream",
          "text": [
            "rewards= 1.0 observation= [-0.03967097  0.22286282  0.03939491 -0.32855448]\n"
          ],
          "name": "stdout"
        }
      ]
    },
    {
      "cell_type": "code",
      "metadata": {
        "colab": {
          "base_uri": "https://localhost:8080/"
        },
        "id": "hvUL7V9bl-fA",
        "outputId": "d2bd3b0e-2ad6-4854-c06e-f82d67a81313"
      },
      "source": [
        "from random import randint\n",
        "\n",
        "done = False\n",
        "rewards = 0\n",
        "env.reset()\n",
        "while not done:\n",
        "  action = randint(0,1)\n",
        "  (observation,reward,done,info)=env.step(action)\n",
        "  rewards += reward\n",
        "  print( \"action=\", action, \"rewards=\", rewards, \"observation=\", observation )\n",
        "print( \"--- game over ---\" )"
      ],
      "execution_count": 12,
      "outputs": [
        {
          "output_type": "stream",
          "text": [
            "action= 1 rewards= 1.0 observation= [-0.03447922  0.16038448  0.01067503 -0.25291574]\n",
            "action= 0 rewards= 2.0 observation= [-0.03127153 -0.03488826  0.00561672  0.04311509]\n",
            "action= 0 rewards= 3.0 observation= [-0.0319693  -0.2300903   0.00647902  0.33756484]\n",
            "action= 0 rewards= 4.0 observation= [-0.0365711  -0.42530385  0.01323032  0.63228383]\n",
            "action= 1 rewards= 5.0 observation= [-0.04507718 -0.23036896  0.025876    0.34379668]\n",
            "action= 1 rewards= 6.0 observation= [-0.04968456 -0.0356245   0.03275193  0.05938447]\n",
            "action= 1 rewards= 7.0 observation= [-0.05039705  0.15901292  0.03393962 -0.22278774]\n",
            "action= 0 rewards= 8.0 observation= [-0.04721679 -0.03657728  0.02948386  0.08040494]\n",
            "action= 0 rewards= 9.0 observation= [-0.04794834 -0.23210921  0.03109196  0.38224236]\n",
            "action= 1 rewards= 10.0 observation= [-0.05259052 -0.03744221  0.03873681  0.09952255]\n",
            "action= 1 rewards= 11.0 observation= [-0.05333937  0.15710378  0.04072726 -0.18069174]\n",
            "action= 1 rewards= 12.0 observation= [-0.05019729  0.35161999  0.03711343 -0.4602536 ]\n",
            "action= 1 rewards= 13.0 observation= [-0.04316489  0.54619824  0.02790835 -0.74101114]\n",
            "action= 0 rewards= 14.0 observation= [-0.03224093  0.35070234  0.01308813 -0.43967749]\n",
            "action= 1 rewards= 15.0 observation= [-0.02522688  0.54563663  0.00429458 -0.72820609]\n",
            "action= 0 rewards= 16.0 observation= [-0.01431415  0.35045558 -0.01026954 -0.4341746 ]\n",
            "action= 1 rewards= 17.0 observation= [-0.00730503  0.5457214  -0.01895303 -0.73007709]\n",
            "action= 0 rewards= 18.0 observation= [ 0.00360939  0.35086647 -0.03355458 -0.44341904]\n",
            "action= 1 rewards= 19.0 observation= [ 0.01062672  0.54644673 -0.04242296 -0.7464875 ]\n",
            "action= 0 rewards= 20.0 observation= [ 0.02155566  0.351935   -0.05735271 -0.46745102]\n",
            "action= 1 rewards= 21.0 observation= [ 0.02859436  0.54781836 -0.06670173 -0.77764539]\n",
            "action= 0 rewards= 22.0 observation= [ 0.03955072  0.35367396 -0.08225463 -0.50667215]\n",
            "action= 0 rewards= 23.0 observation= [ 0.0466242   0.15980153 -0.09238808 -0.24100234]\n",
            "action= 0 rewards= 24.0 observation= [ 0.04982023 -0.03388757 -0.09720812  0.02116879]\n",
            "action= 1 rewards= 25.0 observation= [ 0.04914248  0.16248433 -0.09678475 -0.30053265]\n",
            "action= 0 rewards= 26.0 observation= [ 0.05239217 -0.03113446 -0.1027954  -0.03987399]\n",
            "action= 0 rewards= 27.0 observation= [ 0.05176948 -0.2246436  -0.10359288  0.21868884]\n",
            "action= 0 rewards= 28.0 observation= [ 0.04727661 -0.41814391 -0.0992191   0.47698142]\n",
            "action= 0 rewards= 29.0 observation= [ 0.03891373 -0.61173523 -0.08967948  0.73681765]\n",
            "action= 0 rewards= 30.0 observation= [ 0.02667903 -0.80551164 -0.07494312  0.99998379]\n",
            "action= 1 rewards= 31.0 observation= [ 0.01056879 -0.60947237 -0.05494345  0.68473763]\n",
            "action= 0 rewards= 32.0 observation= [-0.00162065 -0.80379018 -0.04124869  0.95962925]\n",
            "action= 1 rewards= 33.0 observation= [-0.01769646 -0.60813873 -0.02205611  0.65427802]\n",
            "action= 1 rewards= 34.0 observation= [-0.02985923 -0.41271673 -0.00897055  0.35473235]\n",
            "action= 0 rewards= 35.0 observation= [-0.03811357 -0.60770999 -0.0018759   0.64457317]\n",
            "action= 0 rewards= 36.0 observation= [-0.05026777 -0.80280575  0.01101556  0.93666478]\n",
            "action= 1 rewards= 37.0 observation= [-0.06632388 -0.60783406  0.02974886  0.64746351]\n",
            "action= 1 rewards= 38.0 observation= [-0.07848056 -0.41313894  0.04269813  0.36429492]\n",
            "action= 1 rewards= 39.0 observation= [-0.08674334 -0.218649    0.04998403  0.08537534]\n",
            "action= 0 rewards= 40.0 observation= [-0.09111632 -0.41445048  0.05169153  0.39339993]\n",
            "action= 0 rewards= 41.0 observation= [-0.09940533 -0.6102664   0.05955953  0.70192201]\n",
            "action= 0 rewards= 42.0 observation= [-0.11161066 -0.8061611   0.07359797  1.01274319]\n",
            "action= 0 rewards= 43.0 observation= [-0.12773388 -1.00218362  0.09385283  1.32759926]\n",
            "action= 1 rewards= 44.0 observation= [-0.14777755 -0.80836317  0.12040482  1.06570033]\n",
            "action= 1 rewards= 45.0 observation= [-0.16394482 -0.61502237  0.14171883  0.81310233]\n",
            "action= 1 rewards= 46.0 observation= [-0.17624526 -0.4220963   0.15798087  0.56814044]\n",
            "action= 0 rewards= 47.0 observation= [-0.18468719 -0.6190402   0.16934368  0.90613088]\n",
            "action= 0 rewards= 48.0 observation= [-0.19706799 -0.81600026  0.1874663   1.2468943 ]\n",
            "action= 1 rewards= 49.0 observation= [-0.213388   -0.62371032  0.21240419  1.01830572]\n",
            "--- game over ---\n"
          ],
          "name": "stdout"
        }
      ]
    },
    {
      "cell_type": "code",
      "metadata": {
        "id": "HawSd8L9octg"
      },
      "source": [
        ""
      ],
      "execution_count": 12,
      "outputs": []
    },
    {
      "cell_type": "markdown",
      "metadata": {
        "id": "K4rGen90m2Zd"
      },
      "source": [
        "# Choose your Weapons"
      ]
    },
    {
      "cell_type": "code",
      "metadata": {
        "colab": {
          "base_uri": "https://localhost:8080/"
        },
        "id": "LrrR8xqLfZRI",
        "outputId": "5c4b709e-0536-49d2-8fe1-8308a302310a"
      },
      "source": [
        "env.reset()\n",
        "env.step(1)"
      ],
      "execution_count": 13,
      "outputs": [
        {
          "output_type": "execute_result",
          "data": {
            "text/plain": [
              "(array([ 0.01529093,  0.205087  , -0.0012015 , -0.29454714]), 1.0, False, {})"
            ]
          },
          "metadata": {
            "tags": []
          },
          "execution_count": 13
        }
      ]
    },
    {
      "cell_type": "code",
      "metadata": {
        "colab": {
          "base_uri": "https://localhost:8080/"
        },
        "id": "85HP3CV5gA2V",
        "outputId": "d6643e92-0f63-4bdf-b01e-a245ef56af54"
      },
      "source": [
        "env.action_space.n"
      ],
      "execution_count": 14,
      "outputs": [
        {
          "output_type": "execute_result",
          "data": {
            "text/plain": [
              "2"
            ]
          },
          "metadata": {
            "tags": []
          },
          "execution_count": 14
        }
      ]
    },
    {
      "cell_type": "code",
      "metadata": {
        "pycharm": {
          "name": "#%%\n"
        },
        "id": "PVDCR03bbT3R"
      },
      "source": [
        "from easyagents.agents import PpoAgent, DqnAgent\n",
        "from easyagents.callbacks import plot, duration"
      ],
      "execution_count": 2,
      "outputs": []
    },
    {
      "cell_type": "code",
      "metadata": {
        "colab": {
          "base_uri": "https://localhost:8080/",
          "height": 441
        },
        "id": "Z45fiCC6qlTZ",
        "outputId": "17558915-f6b3-45ef-8f68-bb3518c1b30a"
      },
      "source": [
        "ppoAgent = PpoAgent('CartPole-v0', fc_layers=(100,100))\n",
        "ppoAgent.train([plot.State(), plot.Actions(), plot.Rewards()], num_iterations=10, num_iterations_between_eval=1)"
      ],
      "execution_count": null,
      "outputs": [
        {
          "output_type": "display_data",
          "data": {
            "image/png": "[encoded data removed]",
            "text/plain": [
              "<Figure size 1224x432 with 3 Axes>"
            ]
          },
          "metadata": {
            "tags": []
          }
        }
      ]
    },
    {
      "cell_type": "code",
      "metadata": {
        "colab": {
          "base_uri": "https://localhost:8080/",
          "height": 459
        },
        "id": "Ld-g6Rgyq_x1",
        "outputId": "dd90d8aa-b2a1-4844-b284-2dd50af00ade"
      },
      "source": [
        "ppoAgent = PpoAgent('CartPole-v0', fc_layers=(10000))\n",
        "ppoAgent.train([plot.State(), plot.Actions(), plot.Rewards()], num_iterations=10, num_iterations_between_eval=1)"
      ],
      "execution_count": 5,
      "outputs": [
        {
          "output_type": "execute_result",
          "data": {
            "text/plain": [
              "<easyagents.core.PpoTrainContext at 0x7eff53136150>"
            ]
          },
          "metadata": {
            "tags": []
          },
          "execution_count": 5
        },
        {
          "output_type": "display_data",
          "data": {
            "image/png": "[encoded data removed]",
            "text/plain": [
              "<Figure size 1224x432 with 3 Axes>"
            ]
          },
          "metadata": {
            "tags": [],
            "needs_background": "light"
          }
        }
      ]
    },
    {
      "cell_type": "code",
      "metadata": {
        "id": "hE-TTyOabT3g"
      },
      "source": [
        "from easyagents.agents import PpoAgent\n",
        "from easyagents.callbacks import plot, duration"
      ],
      "execution_count": null,
      "outputs": []
    },
    {
      "cell_type": "code",
      "metadata": {
        "pycharm": {
          "is_executing": false
        },
        "id": "VIAOFggkbT3i"
      },
      "source": [
        "%%time\n",
        "\n",
        "ppoAgent = PpoAgent('CartPole-v0', fc_layers=(100, 50, 25))\n",
        "ppoAgent.train([plot.State(), plot.Loss(), plot.Actions(), plot.Rewards()],\n",
        "               num_iterations=10, num_iterations_between_eval=3)\n"
      ],
      "execution_count": null,
      "outputs": []
    },
    {
      "cell_type": "code",
      "metadata": {
        "id": "c_-wXctXbT3m"
      },
      "source": [
        "from easyagents.agents import DqnAgent\n",
        "from easyagents.callbacks import plot"
      ],
      "execution_count": null,
      "outputs": []
    },
    {
      "cell_type": "code",
      "metadata": {
        "pycharm": {
          "name": "#%%\n"
        },
        "id": "1mdNzs1AbT3o"
      },
      "source": [
        "%%time\n",
        "\n",
        "dqnAgent = DqnAgent('CartPole-v0', fc_layers=(100, ))\n",
        "dqnAgent.train([plot.State(), plot.Loss(), plot.Actions(), plot.Rewards()], \n",
        "               num_iterations=20000, num_iterations_between_eval=1000)"
      ],
      "execution_count": null,
      "outputs": []
    }
  ]
}