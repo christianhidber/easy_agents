{
 "cells": [
  {
   "cell_type": "markdown",
   "metadata": {},
   "source": [
    "<a href=\"https://colab.research.google.com/github/christianhidber/easyagents/blob/master/jupyter_notebooks/intro_orso.ipynb\" \n",
    "   target=\"_parent\">\n",
    "   <img src=\"https://colab.research.google.com/assets/colab-badge.svg\" alt=\"Open In Colab\"/>\n",
    "</a>"
   ]
  },
  {
   "cell_type": "markdown",
   "metadata": {},
   "source": [
    "## Discovering & switching backends"
   ]
  },
  {
   "cell_type": "markdown",
   "metadata": {},
   "source": [
    "EasyAgents does not implement algorithms like Ppo or Dqn by itself. Instead it relies on existig \n",
    "implementations and offers an 'easy' access offering the same api across all implementations. \n",
    "We call these implementations a 'backend'. So far we did not choose a backend explicitely, \n",
    "thus a 'default' algorithm implementation was chosen automatically. \n",
    "However we can readily discover the available backends like this: "
   ]
  },
  {
   "cell_type": "code",
   "execution_count": null,
   "metadata": {
    "pycharm": {
     "name": "#%%\n"
    }
   },
   "outputs": [],
   "source": [
    "import easyagents\n",
    "\n",
    "easyagents.agents.get_backends()"
   ]
  },
  {
   "cell_type": "markdown",
   "metadata": {},
   "source": [
    "Currently the default implementation of PpoAgent uses 'tfagents'. \n",
    "\n",
    "Due to an incompatibility between tf-agents and tensorforce, agents from both libraries can not coexist\n",
    "in the same python instance. In order to use tensorforce it must therefore first be activated:"
   ]
  },
  {
   "cell_type": "code",
   "execution_count": null,
   "metadata": {
    "pycharm": {
     "name": "#%%\n"
    }
   },
   "outputs": [],
   "source": [
    "easyagents.agents.activate_tensorforce()"
   ]
  },
  {
   "cell_type": "markdown",
   "metadata": {},
   "source": [
    "To enforce the new backend add the `backend='tensorforce'` argument\n",
    "to the agent constructor: "
   ]
  },
  {
   "cell_type": "code",
   "execution_count": null,
   "metadata": {
    "pycharm": {
     "name": "#%%\n"
    }
   },
   "outputs": [],
   "source": [
    "from easyagents.agents import PpoAgent\n",
    "from easyagents.callbacks import plot\n",
    "\n",
    "ppoAgent = PpoAgent( 'CartPole-v0', backend='tensorforce')\n",
    "ppoAgent.train([plot.State(), plot.Rewards(),plot.Actions()], num_iterations = 5 )"
   ]
  },
  {
   "cell_type": "markdown",
   "metadata": {},
   "source": [
    "Note that once tensorforce is activated tf-agents is not available anymore. Hence"
   ]
  },
  {
   "cell_type": "code",
   "execution_count": null,
   "metadata": {
    "pycharm": {
     "name": "#%%\n"
    }
   },
   "outputs": [],
   "source": [
    "easyagents.agents.activate_tensorforce()"
   ]
  },
  {
   "cell_type": "markdown",
   "metadata": {},
   "source": [
    "does not include the 'tfagents' backend. \n",
    "\n",
    "There are differences between the implementations. \n",
    "Thus you may (and probably will) get different results, depending on your particular backend choice. \n",
    "The current 'tensorforce' backend implementation does not provide the losss, thus we do not display \n",
    "the loss plot.\n"
   ]
  },
  {
   "cell_type": "markdown",
   "metadata": {},
   "source": [
    "## Next: logging, seeding & plot clearing\n",
    "\n",
    "* see \n",
    "  [on colab](https://colab.research.google.com/github/christianhidber/easyagents/blob/master/jupyter_notebooks/intro_logging.ipynb):\n",
    "  how an agent interacts with unerlying library's api & how it operates on the gym environment; \n",
    "  how to set seeds; how to control jupyter output cell clearing"
   ]
  }
 ],
 "metadata": {
  "accelerator": "GPU",
  "colab": {
   "collapsed_sections": [
    "zpzHtN3-kQ26",
    "w3OdHyWEEEwy",
    "bzoq0VM85p46"
   ],
   "include_colab_link": true,
   "name": "easyagents_orso.ipynb",
   "provenance": [],
   "version": "0.3.2"
  },
  "kernelspec": {
   "display_name": "Python 3",
   "language": "python",
   "name": "python3"
  },
  "language_info": {
   "codemirror_mode": {
    "name": "ipython",
    "version": 3
   },
   "file_extension": ".py",
   "mimetype": "text/x-python",
   "name": "python",
   "nbconvert_exporter": "python",
   "pygments_lexer": "ipython3",
   "version": "3.7.5"
  },
  "pycharm": {
   "stem_cell": {
    "cell_type": "raw",
    "source": [],
    "metadata": {
     "collapsed": false
    }
   }
  }
 },
 "nbformat": 4,
 "nbformat_minor": 1
}