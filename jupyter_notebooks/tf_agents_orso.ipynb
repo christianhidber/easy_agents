{
 "cells": [
  {
   "cell_type": "markdown",
   "metadata": {
    "colab_type": "text",
    "id": "view-in-github"
   },
   "source": [
    "<a href=\"https://colab.research.google.com/github/christianhidber/easyagents/blob/master/jupyter_notebooks/tf_agents_orso.ipynb\" target=\"_parent\"><img src=\"https://colab.research.google.com/assets/colab-badge.svg\" alt=\"Open In Colab\"/></a>"
   ]
  },
  {
   "cell_type": "markdown",
   "metadata": {},
   "source": [
    "# Orso's live running on raw TF Agents\n",
    "\n",
    "Make our bear Orso find all the honey in his home turf choosing the most convenient path.  \n",
    "\n",
    "![Orso](images/Orso.png)\n",
    "\n",
    "\n",
    "![Orso](images/turf.png)\n",
    "\n",
    "\n",
    "https://opendatascience.com/bears-need-to-learn-as-well-practical-reinforcement-learning-with-tensorflow-2-0-tf-agents"
   ]
  },
  {
   "cell_type": "markdown",
   "metadata": {},
   "source": [
    "Links to relevant tutorials\n",
    "* https://colab.research.google.com/github/tensorflow/agents/blob/master/tf_agents/colabs/3_policies_tutorial.ipynb\n",
    "* https://colab.research.google.com/github/tensorflow/agents/blob/master/tf_agents/colabs/4_drivers_tutorial.ipynb\n",
    "* https://colab.research.google.com/github/tensorflow/agents/blob/master/tf_agents/colabs/5_replay_buffers_tutorial.ipynb\n",
    "* https://colab.research.google.com/github/tensorflow/agents/blob/master/tf_agents/colabs/6_reinforce_tutorial.ipynb \n",
    "* https://colab.research.google.com/github/tensorflow/agents/blob/master/tf_agents/colabs/8_networks_tutorial.ipynb \n"
   ]
  },
  {
   "cell_type": "markdown",
   "metadata": {
    "colab_type": "text",
    "id": "sQ8Nfk3MKgLt"
   },
   "source": [
    "### Install gym, tensorflow, tf-agents,..., setup display"
   ]
  },
  {
   "cell_type": "code",
   "execution_count": 9,
   "metadata": {
    "colab": {
     "base_uri": "https://localhost:8080/",
     "height": 34
    },
    "colab_type": "code",
    "id": "DcilvDdeI5Ri",
    "outputId": "61f62163-1670-4229-a5a5-6453fd7a3d21",
    "pycharm": {
     "is_executing": false
    }
   },
   "outputs": [],
   "source": [
    "import sys\n",
    "import matplotlib.pyplot as plt\n",
    "\n",
    "if 'google.colab' in sys.modules:\n",
    "    !apt-get install xvfb >/dev/null\n",
    "    !pip install pyvirtualdisplay >/dev/null    \n",
    "    \n",
    "    from pyvirtualdisplay import Display\n",
    "    Display(visible=0, size=(960, 720)).start() \n",
    "    \n",
    "    !pip install 'gym==0.10.11'\n",
    "    !pip install 'imageio==2.4.0'\n",
    "    !pip install PILLOW\n",
    "    !pip install 'pyglet==1.3.2'\n",
    "    !pip install pyvirtualdisplay\n",
    "    !pip install tf-agents-nightly\n",
    "    !pip install tf-nightly\n",
    "    !pip install tensorflow_probability\n",
    "    \n",
    "    !pip install -q networkx==2.3.0"
   ]
  },
  {
   "cell_type": "code",
   "execution_count": 10,
   "metadata": {},
   "outputs": [],
   "source": [
    "from __future__ import absolute_import\n",
    "from __future__ import division\n",
    "from __future__ import print_function\n",
    "\n",
    "import base64\n",
    "import imageio\n",
    "import IPython\n",
    "import matplotlib\n",
    "import matplotlib.pyplot as plt\n",
    "import PIL.Image\n",
    "\n",
    "import tensorflow as tf\n",
    "\n",
    "from tf_agents.agents.reinforce import reinforce_agent\n",
    "from tf_agents.agents.ppo import ppo_agent\n",
    "from tf_agents.drivers import dynamic_step_driver\n",
    "from tf_agents.drivers.dynamic_episode_driver import DynamicEpisodeDriver\n",
    "from tf_agents.environments import suite_gym\n",
    "from tf_agents.environments import tf_py_environment\n",
    "from tf_agents.eval import metric_utils\n",
    "from tf_agents.metrics import tf_metrics\n",
    "from tf_agents.networks import actor_distribution_network\n",
    "from tf_agents.networks import value_network\n",
    "from tf_agents.replay_buffers import tf_uniform_replay_buffer\n",
    "from tf_agents.trajectories import trajectory\n",
    "from tf_agents.utils import common\n",
    "\n",
    "tf.compat.v1.enable_v2_behavior()"
   ]
  },
  {
   "cell_type": "markdown",
   "metadata": {
    "colab_type": "text",
    "id": "x-olom0nwiSX"
   },
   "source": [
    "### Orso's Environment (OpenAI Gym)"
   ]
  },
  {
   "cell_type": "code",
   "execution_count": 11,
   "metadata": {
    "colab": {},
    "colab_type": "code",
    "id": "3plH2u3Swotj",
    "pycharm": {
     "is_executing": false
    }
   },
   "outputs": [],
   "source": [
    "import gym\n",
    "from gym import spaces\n",
    "import matplotlib.image as mpi\n",
    "from matplotlib.offsetbox import (OffsetImage, AnnotationBbox)\n",
    "from IPython.display import display, clear_output\n",
    "import networkx as nx\n",
    "import numpy as np\n",
    "import random\n",
    "\n",
    "graph = {\n",
    "            'S': [('A', 300), ('B', 100), ('C', 200)],\n",
    "            'A': [('S', 300), ('B', 100), ('E', 100), ('D', 100)],\n",
    "            'B': [('S', 100), ('A', 100), ('C', 50), ('K', 200)],\n",
    "            'C': [('S', 200), ('B', 50), ('M', 100), ('L', 200)],\n",
    "            'D': [('A', 100), ('F', 50)],\n",
    "            'E': [('A', 100), ('F', 100), ('H', 100)],\n",
    "            'F': [('D', 50), ('E', 100), ('G', 200)],\n",
    "            'G': [('F', 200), ('O', 300)],\n",
    "            'H': [('E', 100), ('K', 300)],\n",
    "            'K': [('B', 200), ('H', 300)],\n",
    "            'L': [('C', 200), ('M', 50)],\n",
    "            'M': [('C', 100), ('L', 50), ('N', 100)],\n",
    "            'N': [('M', 100), ('O', 100)],\n",
    "            'O': [('N', 100), ('G', 300)]\n",
    "        }\n",
    "\n",
    "def state_name_to_int(state):\n",
    "    state_name_map = {\n",
    "        'S': 0,\n",
    "        'A': 1,\n",
    "        'B': 2,\n",
    "        'C': 3,\n",
    "        'D': 4,\n",
    "        'E': 5,\n",
    "        'F': 6,\n",
    "        'G': 7,\n",
    "        'H': 8,\n",
    "        'K': 9,\n",
    "        'L': 10,\n",
    "        'M': 11,\n",
    "        'N': 12,\n",
    "        'O': 13\n",
    "    }\n",
    "    return state_name_map[state]\n",
    "\n",
    "def int_to_state_name(state_as_int):\n",
    "    state_map = {\n",
    "        0: 'S',\n",
    "        1: 'A',\n",
    "        2: 'B',\n",
    "        3: 'C',\n",
    "        4: 'D',\n",
    "        5: 'E',\n",
    "        6: 'F',\n",
    "        7: 'G',\n",
    "        8: 'H',\n",
    "        9: 'K',\n",
    "        10: 'L',\n",
    "        11: 'M',\n",
    "        12: 'N',\n",
    "        13: 'O'\n",
    "    }\n",
    "    return state_map[state_as_int]\n",
    "\n",
    "class OrsoEnv(gym.Env):\n",
    "    metadata = {'render.modes': ['ansi']}\n",
    "    showStep = False\n",
    "\n",
    "    def __init__(self):\n",
    "        self.map = graph\n",
    "        max_paths = 4\n",
    "        self.action_space = spaces.Discrete(max_paths)\n",
    "\n",
    "        positions = len(self.map)\n",
    "        # observations: position, reward of all 4 local paths, rest reward of all locations\n",
    "        # non existing path is -1000 and no position change\n",
    "        # look at what #getObservation returns if you are confused\n",
    "        low = np.append(np.append([0], np.full(max_paths, -1000)), np.full(positions, 0))\n",
    "        high = np.append(np.append([positions - 1], np.full(max_paths, 1000)), np.full(positions, 1000))\n",
    "        self.observation_space = spaces.Box(low=low,\n",
    "                                            high=high,\n",
    "                                            dtype=np.float32)\n",
    "        self.reward_range = (-1, 1)\n",
    "        self.envEpisodeCount = 0\n",
    "        self.envStepCount = 0\n",
    "        self._figure = None\n",
    "\n",
    "        self.reset()\n",
    "        self.optimum = self.calculate_customers_reward()\n",
    "\n",
    "        base = \"https://raw.githubusercontent.com/christianhidber/easyagents/master/images/\"\n",
    "        self.image_orso = mpi.imread(base + \"Bear.png\")\n",
    "        self.image_cave = mpi.imread(base + \"Cave.png\")\n",
    "        self.image_honey = mpi.imread(base + \"Honey.png\")\n",
    "        self.image_empty_pot = mpi.imread(base + \"EmptyPot.png\")\n",
    "        self.nx_graph, self.nx_pos = self._create_nx_graph()\n",
    "\n",
    "    def iterate_path(self, state, action):\n",
    "        paths = self.map[state]\n",
    "        if action < len(paths):\n",
    "            return paths[action]\n",
    "        else:\n",
    "            # sorry, no such action, stay where you are and pay a high penalty\n",
    "            return (state, 1000)\n",
    "\n",
    "    def step(self, action):\n",
    "        destination, cost = self.iterate_path(self.state, action)\n",
    "\n",
    "        self.cost = cost\n",
    "        self.action = action\n",
    "        self.lastStep_state = self.state\n",
    "        self.state = destination\n",
    "        self.customerReward = self.customer_reward[destination]\n",
    "        self.reward = 0\n",
    "        self.reward = (self.customerReward - self.cost) / self.optimum\n",
    "\n",
    "        self.customer_visited(destination)\n",
    "        done = (destination == 'S' and self.all_customers_visited())\n",
    "\n",
    "        stateAsInt = state_name_to_int(self.state)\n",
    "        self.totalReward += self.reward\n",
    "        self.stepCount += 1\n",
    "        self.envStepCount += 1\n",
    "\n",
    "        if done and not self.isDone:\n",
    "            self.envEpisodeCount += 1\n",
    "\n",
    "        self.isDone = done\n",
    "        observation = self.getObservation(stateAsInt)\n",
    "        info = {\"from\": self.state, \"to\": destination}\n",
    "        return observation, self.reward, done, info\n",
    "\n",
    "    def getObservation(self, position):\n",
    "        result = np.array([position,\n",
    "                           self.getPathObservation(position, 0),\n",
    "                           self.getPathObservation(position, 1),\n",
    "                           self.getPathObservation(position, 2),\n",
    "                           self.getPathObservation(position, 3)\n",
    "                           ],\n",
    "                          dtype=np.float32)\n",
    "        all_rest_rewards = list(self.customer_reward.values())\n",
    "        result = np.append(result, all_rest_rewards)\n",
    "        return result\n",
    "\n",
    "    def getPathObservation(self, position, path):\n",
    "        paths = self.map[self.state]\n",
    "        if path < len(paths):\n",
    "            target, cost = paths[path]\n",
    "            reward = self.customer_reward[target]\n",
    "            result = reward - cost\n",
    "        else:\n",
    "            result = -1000\n",
    "\n",
    "        return result\n",
    "\n",
    "    def customer_visited(self, customer):\n",
    "        self.customer_reward[customer] = 0\n",
    "\n",
    "    def all_customers_visited(self):\n",
    "        return self.calculate_customers_reward() == 0\n",
    "\n",
    "    def calculate_customers_reward(self):\n",
    "        sum = 0\n",
    "        for value in self.customer_reward.values():\n",
    "            sum += value\n",
    "        return sum\n",
    "\n",
    "    def modulate_reward(self):\n",
    "        number_of_customers = len(self.map) - 1\n",
    "        number_per_consultant = int(number_of_customers / 2)\n",
    "        self.customer_reward = {\n",
    "            'S': 0\n",
    "        }\n",
    "        self._honeypot_places = []\n",
    "        for customer_nr in range(1, number_of_customers + 1):\n",
    "            self.customer_reward[int_to_state_name(customer_nr)] = 0\n",
    "\n",
    "        # every consultant only visits a few random customers\n",
    "        samples = random.sample(range(1, number_of_customers + 1), k=number_per_consultant)\n",
    "        key_list = list(self.customer_reward.keys())\n",
    "        for sample in samples:\n",
    "            self.customer_reward[key_list[sample]] = 1000\n",
    "            self._honeypot_places = self._honeypot_places + [key_list[sample]]\n",
    "\n",
    "    def reset(self):\n",
    "        self.totalReward = 0\n",
    "        self.stepCount = 0\n",
    "        self.isDone = False\n",
    "        self.state = 'S'\n",
    "        self.cost = 0\n",
    "        self.action = 0\n",
    "        self.lastStep_state = ''\n",
    "        self.customerReward = None\n",
    "        self._honeypot_places = None\n",
    "        self.reward = 0\n",
    "        self.envEpisodeCount += 1\n",
    "        self.modulate_reward()\n",
    "        self._figure = None\n",
    "        return self.getObservation(state_name_to_int(self.state))\n",
    "\n",
    "    def _create_nx_graph(self):\n",
    "        \"\"\" generates the networkx graph representing orso's world with all its paths.\n",
    "\n",
    "        :return: graph, positions\n",
    "        \"\"\"\n",
    "        nx_graph = nx.Graph()\n",
    "        for node_id in self.map.keys():\n",
    "            zoom = 0.6\n",
    "            image = self.image_empty_pot\n",
    "            nx_graph.add_node(node_id, image=image, zoom=zoom)\n",
    "        for source, connections in self.map.items():\n",
    "            for target, cost in connections:\n",
    "                if cost >= 300:\n",
    "                    color = 'dodgerblue'\n",
    "                elif cost >= 200:\n",
    "                    color = 'darkgoldenrod'\n",
    "                elif cost >= 100:\n",
    "                    color = 'forestgreen'\n",
    "                else:\n",
    "                    color = 'greenyellow'\n",
    "                nx_graph.add_edge(source, target, color=color, weight=6, image=self.image_cave)\n",
    "        nx_pos = nx.kamada_kawai_layout(nx_graph)\n",
    "        return nx_graph, nx_pos\n",
    "\n",
    "    def _render_to_figure(self):\n",
    "        \"\"\" Renders the current state as a graph with matplotlib\n",
    "        \"\"\"\n",
    "        # draw graph using matplotlib\n",
    "        if (self._figure is not None):\n",
    "            plt.close(self._figure)\n",
    "        self._figure = plt.figure(\"BeraterEnv\", figsize=(12, 9))\n",
    "        if len(self._figure.axes) == 0:\n",
    "            self._figure.add_subplot(1, 1, 1)\n",
    "        self._figure.axes[0].cla()\n",
    "        ax = self._figure.axes[0]\n",
    "\n",
    "        edges = self.nx_graph.edges()\n",
    "        edge_colors = [self.nx_graph[u][v]['color'] for u, v in edges]\n",
    "        edge_weights = [self.nx_graph[u][v]['weight'] for u, v in edges]\n",
    "        nx.draw(self.nx_graph, pos=self.nx_pos, ax=ax, node_color='lightgrey',\n",
    "                edges=edges, edge_color=edge_colors, width=edge_weights)\n",
    "\n",
    "        # draw images on graph nodes\n",
    "        # set image (according to the current state) and sizes (make orso's current position larger)\n",
    "        for node_id in self.nx_graph.nodes():\n",
    "            node = self.nx_graph.node[node_id]\n",
    "            node['zoom'] = 0.4\n",
    "            if node_id == self.state:\n",
    "                node['zoom'] = 0.6\n",
    "            if node_id in self._honeypot_places:\n",
    "                node['image'] = self.image_empty_pot\n",
    "                if self.customer_reward[node_id] > 0:\n",
    "                    node['image'] = self.image_honey\n",
    "            else:\n",
    "                node['image'] = None\n",
    "            if node_id == 'S':\n",
    "                node['image'] = self.image_cave\n",
    "            if self.state == node_id:\n",
    "                node['image'] = self.image_orso\n",
    "\n",
    "        # position images\n",
    "        for n in self.nx_pos:\n",
    "            node = self.nx_graph.node[n]\n",
    "            image = node['image']\n",
    "            if image is not None: \n",
    "                xp, yp = self.nx_pos[n]\n",
    "                offset_image = OffsetImage(image, node['zoom'])\n",
    "                offset_image.image.axes = ax\n",
    "                ab = AnnotationBbox(offset_image, (xp, yp),\n",
    "                                    xybox=(0, 0),\n",
    "                                    xycoords='data',\n",
    "                                    boxcoords=\"offset points\",\n",
    "                                    pad=0.0,\n",
    "                                    frameon=False\n",
    "                                    )\n",
    "                ax.add_artist(ab)\n",
    "\n",
    "        self._figure.canvas.draw()\n",
    "\n",
    "    def _render_ansi(self):\n",
    "        result = (\"Episode: \" + (\"%4.0f  \" % self.envEpisodeCount) +\n",
    "                  \" Step: \" + (\"%4.0f  \" % self.stepCount) +\n",
    "                  self.lastStep_state + ' --' + str(self.action) + '-> ' + self.state +\n",
    "                  ' R=' + (\"% 2.2f\" % self.reward) + ' totalR=' + (\"% 3.2f\" % self.totalReward) +\n",
    "                  ' cost=' + (\"%4.0f\" % self.cost) + ' customerR=' + (\"%4.0f\" % self.customerReward) + ' optimum=' + (\n",
    "                          \"%4.0f\" % self.optimum)\n",
    "                  )\n",
    "        return result\n",
    "\n",
    "    def _render_rgb(self):\n",
    "        self._render_to_figure()\n",
    "        self._figure.canvas.draw()\n",
    "        buf = self._figure.canvas.tostring_rgb()\n",
    "        num_cols, num_rows = self._figure.canvas.get_width_height()\n",
    "        plt.close(self._figure)\n",
    "        self._figure = None\n",
    "        result = np.fromstring(buf, dtype=np.uint8).reshape(num_rows, num_cols, 3)\n",
    "        return result\n",
    "\n",
    "    def render(self, mode='human'):\n",
    "        if mode == 'ansi':\n",
    "            return self._render_ansi()\n",
    "        elif mode == 'human':\n",
    "            clear_output(wait=True)\n",
    "            self._render_to_figure()\n",
    "            plt.pause(0.01)\n",
    "            return\n",
    "        elif mode == 'rgb_array':\n",
    "            return self._render_rgb()\n",
    "        else:\n",
    "            super().render(mode=mode)\n",
    "          "
   ]
  },
  {
   "cell_type": "code",
   "execution_count": 12,
   "metadata": {
    "colab": {},
    "colab_type": "code",
    "id": "_fHrBrxxI5Rt",
    "pycharm": {
     "is_executing": false
    }
   },
   "outputs": [],
   "source": [
    "env = OrsoEnv()"
   ]
  },
  {
   "cell_type": "code",
   "execution_count": 13,
   "metadata": {
    "colab": {
     "base_uri": "https://localhost:8080/",
     "height": 520
    },
    "colab_type": "code",
    "id": "TOAwmZ4p8UMH",
    "outputId": "9b001b37-ccd1-407d-82fd-4182c843bdbd",
    "pycharm": {
     "is_executing": false,
     "name": "#%%\n"
    }
   },
   "outputs": [],
   "source": [
    "env.reset()\n",
    "env.render() "
   ]
  },
  {
   "cell_type": "code",
   "execution_count": 21,
   "metadata": {
    "colab": {
     "base_uri": "https://localhost:8080/",
     "height": 537
    },
    "colab_type": "code",
    "id": "s2RYX2_2I5Ry",
    "outputId": "bc2ee123-9bee-45e9-f5fe-919a95e3a003",
    "pycharm": {
     "is_executing": false,
     "name": "#%%\n"
    }
   },
   "outputs": [],
   "source": [
    "env.step(2)\n",
    "env.render()\n",
    "print(env.render(mode='ansi'))"
   ]
  },
  {
   "cell_type": "markdown",
   "metadata": {},
   "source": [
    "### Register with OpenAI Gym"
   ]
  },
  {
   "cell_type": "code",
   "execution_count": 15,
   "metadata": {
    "colab": {
     "base_uri": "https://localhost:8080/",
     "height": 34
    },
    "colab_type": "code",
    "id": "OS3pnnbAI5R9",
    "outputId": "96494cef-ca9d-4f56-ad5b-5521dcf0e1a4",
    "pycharm": {
     "is_executing": false
    }
   },
   "outputs": [],
   "source": [
    "env_name=\"Orso-v1\"\n",
    "\n",
    "env = gym.envs.registration.register(id=env_name,entry_point=OrsoEnv, max_episode_steps=50)"
   ]
  },
  {
   "cell_type": "code",
   "execution_count": 22,
   "metadata": {},
   "outputs": [],
   "source": [
    "# two envs for train and eval\n",
    "train_py_env = suite_gym.load(env_name)\n",
    "eval_py_env = suite_gym.load(env_name)\n",
    "\n",
    "# converted to tensorflow envs\n",
    "train_env = tf_py_environment.TFPyEnvironment(train_py_env)\n",
    "eval_env = tf_py_environment.TFPyEnvironment(eval_py_env)"
   ]
  },
  {
   "cell_type": "markdown",
   "metadata": {},
   "source": [
    "### What you need using tf-agents\n",
    "\n",
    "![TF-Agents overview](images/tf-agents-overview.png)\n",
    "\n",
    "https://www.youtube.com/watch?v=tAOApRQAgpc\n",
    "<br>\n",
    "https://www.youtube.com/watch?v=-TTziY7EmUA"
   ]
  },
  {
   "cell_type": "markdown",
   "metadata": {},
   "source": [
    "### Value Network"
   ]
  },
  {
   "cell_type": "code",
   "execution_count": 23,
   "metadata": {},
   "outputs": [],
   "source": [
    "value_net = value_network.ValueNetwork(train_env.observation_spec(), fc_layer_params=(500, 500, 500))"
   ]
  },
  {
   "cell_type": "markdown",
   "metadata": {},
   "source": [
    "### Actor Network"
   ]
  },
  {
   "cell_type": "code",
   "execution_count": 24,
   "metadata": {},
   "outputs": [],
   "source": [
    "actor_net = actor_distribution_network.ActorDistributionNetwork(\n",
    "    train_env.observation_spec(),\n",
    "    train_env.action_spec(),\n",
    "    fc_layer_params=(500, 500, 500))"
   ]
  },
  {
   "cell_type": "code",
   "execution_count": 25,
   "metadata": {},
   "outputs": [],
   "source": [
    "time_step = train_env.reset()\n",
    "time_step"
   ]
  },
  {
   "cell_type": "code",
   "execution_count": 26,
   "metadata": {},
   "outputs": [],
   "source": [
    "# https://www.tensorflow.org/probability/api_docs/python/tfp/distributions/Categorical\n",
    "distribution, _ = actor_net(time_step.observation, time_step.step_type, None)\n",
    "distribution"
   ]
  },
  {
   "cell_type": "code",
   "execution_count": 27,
   "metadata": {},
   "outputs": [],
   "source": [
    "distribution.num_categories.numpy()"
   ]
  },
  {
   "cell_type": "code",
   "execution_count": 28,
   "metadata": {},
   "outputs": [],
   "source": [
    "distribution.logits.numpy()"
   ]
  },
  {
   "cell_type": "code",
   "execution_count": 29,
   "metadata": {},
   "outputs": [],
   "source": [
    "# greedy\n",
    "distribution.mode().numpy()"
   ]
  },
  {
   "cell_type": "code",
   "execution_count": 30,
   "metadata": {},
   "outputs": [],
   "source": [
    "# sample\n",
    "distribution.sample().numpy()"
   ]
  },
  {
   "cell_type": "markdown",
   "metadata": {},
   "source": [
    "### Custom Networks (optional)"
   ]
  },
  {
   "cell_type": "code",
   "execution_count": 31,
   "metadata": {},
   "outputs": [],
   "source": [
    "import tensorflow as tf\n",
    "from tf_agents.utils import nest_utils\n",
    "\n",
    "class CustomActorDistributionNetwork(actor_distribution_network.ActorDistributionNetwork):\n",
    "    def __init__(self,\n",
    "               input_tensor_spec,\n",
    "               output_tensor_spec,\n",
    "               custom_hidden_model):\n",
    "\n",
    "        super(CustomActorDistributionNetwork, self).__init__(input_tensor_spec, output_tensor_spec)\n",
    "        self._custom_hidden_model = custom_hidden_model\n",
    "\n",
    "    def call(self, observations, step_type, network_state):\n",
    "        state = self._custom_hidden_model(observations)\n",
    "        outer_rank = nest_utils.get_outer_rank(observations, self.input_tensor_spec)\n",
    "        output_actions = tf.nest.map_structure(\n",
    "            lambda proj_net: proj_net(state, outer_rank), self._projection_networks)\n",
    "        return output_actions, network_state\n",
    "\n",
    "model = tf.keras.Sequential([\n",
    "    tf.keras.layers.Dense(500, activation=tf.nn.relu),\n",
    "    tf.keras.layers.Dropout(rate=0.4),\n",
    "    \n",
    "    tf.keras.layers.Dense(250, activation=tf.nn.relu),\n",
    "    tf.keras.layers.Dropout(rate=0.4)\n",
    "])    \n",
    "\n",
    "actor_net = CustomActorDistributionNetwork(\n",
    "    train_env.observation_spec(),\n",
    "    train_env.action_spec(),\n",
    "    custom_hidden_model=model)"
   ]
  },
  {
   "cell_type": "markdown",
   "metadata": {},
   "source": [
    "### Agent"
   ]
  },
  {
   "cell_type": "code",
   "execution_count": 32,
   "metadata": {},
   "outputs": [],
   "source": [
    "optimizer = tf.compat.v1.train.AdamOptimizer(learning_rate=1e-4)\n",
    "\n",
    "tf_agent = ppo_agent.PPOAgent(\n",
    "    train_env.time_step_spec(),\n",
    "    train_env.action_spec(),\n",
    "    actor_net=actor_net,\n",
    "    value_net=value_net,\n",
    "    optimizer=optimizer,\n",
    "    num_epochs=5)\n",
    "tf_agent.initialize()"
   ]
  },
  {
   "cell_type": "markdown",
   "metadata": {},
   "source": [
    "### Collect Policy\n"
   ]
  },
  {
   "cell_type": "code",
   "execution_count": 33,
   "metadata": {},
   "outputs": [],
   "source": [
    "# creates the actions that are fed into invironment\n",
    "\n",
    "collect_policy = tf_agent.collect_policy"
   ]
  },
  {
   "cell_type": "markdown",
   "metadata": {},
   "source": [
    "### Replay Buffer"
   ]
  },
  {
   "cell_type": "code",
   "execution_count": 34,
   "metadata": {},
   "outputs": [],
   "source": [
    "replay_buffer = tf_uniform_replay_buffer.TFUniformReplayBuffer(\n",
    "    data_spec=tf_agent.collect_data_spec,\n",
    "    batch_size=train_env.batch_size,\n",
    "    max_length=10001)"
   ]
  },
  {
   "cell_type": "markdown",
   "metadata": {},
   "source": [
    "### Driver"
   ]
  },
  {
   "cell_type": "code",
   "execution_count": 35,
   "metadata": {},
   "outputs": [],
   "source": [
    "avg_return = tf_metrics.AverageReturnMetric()\n",
    "avg_length = tf_metrics.AverageEpisodeLengthMetric()\n",
    "\n",
    "collect_driver = DynamicEpisodeDriver(train_env,\n",
    "                                      collect_policy,\n",
    "                                      observers=[replay_buffer.add_batch, avg_return, avg_length],\n",
    "                                      num_episodes=5)"
   ]
  },
  {
   "cell_type": "code",
   "execution_count": 36,
   "metadata": {},
   "outputs": [],
   "source": [
    "# just for optimization\n",
    "tf_agent.train = common.function(tf_agent.train)\n",
    "collect_driver.run = common.function(collect_driver.run)"
   ]
  },
  {
   "cell_type": "markdown",
   "metadata": {},
   "source": [
    "### Training Steps"
   ]
  },
  {
   "cell_type": "code",
   "execution_count": 37,
   "metadata": {},
   "outputs": [],
   "source": [
    "collect_driver.run()"
   ]
  },
  {
   "cell_type": "code",
   "execution_count": 38,
   "metadata": {},
   "outputs": [],
   "source": [
    "trajectories = replay_buffer.gather_all()\n",
    "trajectories"
   ]
  },
  {
   "cell_type": "code",
   "execution_count": 39,
   "metadata": {},
   "outputs": [],
   "source": [
    "losses = tf_agent.train(trajectories)\n",
    "losses"
   ]
  },
  {
   "cell_type": "code",
   "execution_count": 42,
   "metadata": {},
   "outputs": [],
   "source": [
    "tf_agent.train_step_counter.numpy()"
   ]
  },
  {
   "cell_type": "code",
   "execution_count": 43,
   "metadata": {},
   "outputs": [],
   "source": [
    "replay_buffer.clear()"
   ]
  },
  {
   "cell_type": "markdown",
   "metadata": {},
   "source": [
    "### Training Loop"
   ]
  },
  {
   "cell_type": "code",
   "execution_count": 44,
   "metadata": {},
   "outputs": [],
   "source": [
    "num_iterations = 500  # @param {type:\"integer\"}\n",
    "log_interval = 25 # @param {type:\"integer\"}"
   ]
  },
  {
   "cell_type": "code",
   "execution_count": 45,
   "metadata": {},
   "outputs": [],
   "source": [
    "%%time\n",
    "\n",
    "losses = []\n",
    "policy_gradient_losses = []\n",
    "value_estimation_losses = []\n",
    "\n",
    "returns = []\n",
    "lengths = []\n",
    "\n",
    "for iteration in range(num_iterations):\n",
    "#     print ('iteration = {0}'.format(iteration))\n",
    "    \n",
    "    collect_driver.run()\n",
    "    trajectories = replay_buffer.gather_all()\n",
    "    loss_info = tf_agent.train(trajectories)\n",
    "\n",
    "    replay_buffer.clear()\n",
    "\n",
    "    total_loss = loss_info.loss.numpy()\n",
    "    losses.append(total_loss)\n",
    "\n",
    "    policy_gradient_loss = loss_info.extra.policy_gradient_loss.numpy()\n",
    "    policy_gradient_losses.append(policy_gradient_loss)\n",
    "    \n",
    "    value_estimation_loss = loss_info.extra.value_estimation_loss.numpy()\n",
    "    value_estimation_losses.append(value_estimation_loss)\n",
    "    \n",
    "    returns.append(avg_return.result().numpy())\n",
    "    lengths.append(avg_length.result().numpy())    \n",
    "\n",
    "    step = tf_agent.train_step_counter.numpy()\n",
    "    if step % log_interval == 0:\n",
    "        print('step = {0}: loss = {1}, avg return = {2}, avg length = {3}'.format(\n",
    "            step, total_loss, avg_return.result().numpy(), avg_length.result().numpy()))"
   ]
  },
  {
   "cell_type": "markdown",
   "metadata": {},
   "source": [
    "### How did the training go?"
   ]
  },
  {
   "cell_type": "code",
   "execution_count": 46,
   "metadata": {},
   "outputs": [],
   "source": [
    "steps = range(0, num_iterations)\n",
    "plt.plot(steps, returns)\n",
    "plt.ylabel('Average Return')\n",
    "plt.xlabel('Step')"
   ]
  },
  {
   "cell_type": "code",
   "execution_count": 47,
   "metadata": {},
   "outputs": [],
   "source": [
    "steps = range(0, num_iterations)\n",
    "\n",
    "plt.plot(steps, lengths)\n",
    "plt.ylabel('Length of episode')\n",
    "plt.xlabel('Step')"
   ]
  },
  {
   "cell_type": "code",
   "execution_count": 48,
   "metadata": {},
   "outputs": [],
   "source": [
    "steps = range(0, num_iterations)\n",
    "\n",
    "plt.yscale('log')\n",
    "plt.plot(steps, losses)\n",
    "plt.ylabel('Total loss')\n",
    "plt.xlabel('Step')"
   ]
  },
  {
   "cell_type": "code",
   "execution_count": 33,
   "metadata": {},
   "outputs": [],
   "source": [
    "steps = range(0, num_iterations)\n",
    "\n",
    "plt.yscale('log')\n",
    "\n",
    "plt.plot(steps, policy_gradient_losses)\n",
    "plt.ylabel('Actor loss')\n",
    "plt.xlabel('Step')"
   ]
  },
  {
   "cell_type": "code",
   "execution_count": 34,
   "metadata": {},
   "outputs": [],
   "source": [
    "steps = range(0, num_iterations)\n",
    "\n",
    "plt.yscale('log')\n",
    "plt.plot(steps, value_estimation_losses)\n",
    "plt.ylabel('Critic loss')\n",
    "plt.xlabel('Step')"
   ]
  },
  {
   "cell_type": "code",
   "execution_count": 35,
   "metadata": {},
   "outputs": [],
   "source": [
    "def embed_mp4(filename):\n",
    "  \"\"\"Embeds an mp4 file in the notebook.\"\"\"\n",
    "  video = open(filename,'rb').read()\n",
    "  b64 = base64.b64encode(video)\n",
    "  tag = '''\n",
    "  <video width=\"640\" height=\"480\" controls>\n",
    "    <source src=\"data:video/mp4;base64,{0}\" type=\"video/mp4\">\n",
    "  Your browser does not support the video tag.\n",
    "  </video>'''.format(b64.decode())\n",
    "\n",
    "  return IPython.display.HTML(tag)"
   ]
  },
  {
   "cell_type": "code",
   "execution_count": 36,
   "metadata": {},
   "outputs": [],
   "source": [
    "num_episodes = 1\n",
    "video_filename = 'imageio.mp4'\n",
    "with imageio.get_writer(video_filename, fps=5) as video:\n",
    "  for _ in range(num_episodes):\n",
    "    time_step = eval_env.reset()\n",
    "    video.append_data(eval_py_env.render())\n",
    "    while not time_step.is_last():\n",
    "      action_step = tf_agent.policy.action(time_step)\n",
    "#       print(action_step.action.numpy()[0])  \n",
    "      time_step = eval_env.step(action_step.action)\n",
    "      video.append_data(eval_py_env.render())\n",
    "\n",
    "embed_mp4(video_filename)"
   ]
  },
  {
   "cell_type": "code",
   "execution_count": null,
   "metadata": {},
   "outputs": [],
   "source": []
  }
 ],
 "metadata": {
  "accelerator": "GPU",
  "colab": {
   "collapsed_sections": [
    "zpzHtN3-kQ26",
    "w3OdHyWEEEwy",
    "bzoq0VM85p46"
   ],
   "include_colab_link": true,
   "name": "easyagents_orso.ipynb",
   "provenance": [],
   "version": "0.3.2"
  },
  "kernelspec": {
   "display_name": "Python 3",
   "language": "python",
   "name": "python3"
  },
  "language_info": {
   "codemirror_mode": {
    "name": "ipython",
    "version": 3
   },
   "file_extension": ".py",
   "mimetype": "text/x-python",
   "name": "python",
   "nbconvert_exporter": "python",
   "pygments_lexer": "ipython3",
   "version": "3.7.3"
  },
  "pycharm": {
   "stem_cell": {
    "cell_type": "raw",
    "metadata": {
     "collapsed": false
    },
    "source": []
   }
  }
 },
 "nbformat": 4,
 "nbformat_minor": 1
}