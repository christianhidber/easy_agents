{
 "cells": [
  {
   "cell_type": "markdown",
   "source": [
    "<a href=\"https://colab.research.google.com/github/christianhidber/easyagents/blob/master/jupyter_notebooks/easyagents_logging.ipynb\" target=\"_parent\"><img src=\"https://colab.research.google.com/assets/colab-badge.svg\" alt=\"Open In Colab\"/></a>"
   ],
   "metadata": {
    "collapsed": false
   }
  },
  {
   "cell_type": "markdown",
   "source": [
    "# Investigating an agent api through logging, seeding & fixing juypter output cell clearing"
   ],
   "metadata": {
    "collapsed": false
   }
  },
  {
   "cell_type": "markdown",
   "source": [
    "### Install packages (gym, tfagents, tensorflow,....)"
   ],
   "metadata": {
    "collapsed": false
   }
  },
  {
   "cell_type": "markdown",
   "source": [
    "#### suppress package warnings, in colab: load additional packages for rendering"
   ],
   "metadata": {
    "collapsed": false
   }
  },
  {
   "cell_type": "code",
   "execution_count": null,
   "outputs": [],
   "source": [
    "%matplotlib inline\n",
    "import matplotlib.pyplot as plt\n",
    "import sys\n",
    "import warnings\n",
    "\n",
    "warnings.filterwarnings('ignore')\n",
    "if 'google.colab' in sys.modules:\n",
    "    !apt-get install xvfb >/dev/null\n",
    "    !pip install pyvirtualdisplay >/dev/null    \n",
    "    \n",
    "    from pyvirtualdisplay import Display\n",
    "    Display(visible=0, size=(960, 720)).start() \n",
    "else:\n",
    "    #  for local installation\n",
    "    sys.path.append('..')"
   ],
   "metadata": {
    "collapsed": false,
    "pycharm": {
     "name": "#%%\n"
    }
   }
  },
  {
   "cell_type": "markdown",
   "source": [
    "#### install easyagents and rendering for orso"
   ],
   "metadata": {
    "collapsed": false
   }
  },
  {
   "cell_type": "code",
   "execution_count": null,
   "outputs": [],
   "source": [
    "if 'google.colab' in sys.modules:\n",
    "    !pip install -q easyagents >/dev/null\n",
    "    !pip install -q networkx==2.3.0 >/dev/null"
   ],
   "metadata": {
    "collapsed": false,
    "pycharm": {
     "name": "#%%\n"
    }
   }
  },
  {
   "cell_type": "markdown",
   "source": [
    "## Agent logging \n",
    "\n",
    "Use the log.Agent() callback to investigate how easyagents interacts with a backend:"
   ],
   "metadata": {
    "collapsed": false
   }
  },
  {
   "cell_type": "code",
   "execution_count": 1,
   "outputs": [],
   "source": [
    "from easyagents.agents import PpoAgent\n",
    "from easyagents.callbacks import duration, log\n",
    "\n",
    "ppoAgent = PpoAgent('CartPole-v0')\n",
    "ppoAgent.train([log.Agent(), duration.Fast()], default_plots=False)"
   ],
   "metadata": {
    "collapsed": false,
    "pycharm": {
     "name": "#%%\n",
     "is_executing": false
    }
   }
  },
  {
   "cell_type": "markdown",
   "source": [
    "Plots clear the jupyter cell ouput before each update thereby clearing the log output as well, thus we turned them off.\n",
    "Typically each call to the backend api during training is logged. \n",
    "Note that the logging starts with 'tfagents' the default backend for the PpoAgent.\n",
    "We then see a sequence of calls performing the Agent initialisation before we enter the train loop.\n",
    "Api calls during play or evaluation are not logged.\n",
    "\n",
    "Let's take a look at the tensorforce backend:"
   ],
   "metadata": {
    "collapsed": false
   }
  },
  {
   "cell_type": "code",
   "execution_count": 1,
   "outputs": [],
   "source": [
    "from easyagents.agents import PpoAgent\n",
    "from easyagents.callbacks import duration, log\n",
    "\n",
    "ppoAgent = PpoAgent('CartPole-v0', backend='tensorforce')\n",
    "ppoAgent.train([log.Agent(), duration.Fast()], default_plots=False)"
   ],
   "metadata": {
    "collapsed": false,
    "pycharm": {
     "name": "#%%\n",
     "is_executing": false
    }
   }
  },
  {
   "cell_type": "markdown",
   "source": [
    "While in tensorforce we also first do a sequence of agent and policy. Note that in contrast to tfagents we do not\n",
    "build up actor and critic policy networks but instead pass a network specification to the Agent.create call.\n",
    "Moreover tensorforce implements already the train loop through its Runner class. \n",
    "Thus we only see 1 call to runner.run instead of the many api calls for tfagents."
   ],
   "metadata": {
    "collapsed": false,
    "pycharm": {
     "name": "#%% md\n"
    }
   }
  },
  {
   "cell_type": "markdown",
   "source": [
    "## Seeding\n",
    "\n",
    "To set a seed use:"
   ],
   "metadata": {
    "collapsed": false,
    "pycharm": {
     "name": "#%% md\n"
    }
   }
  },
  {
   "cell_type": "code",
   "execution_count": 1,
   "outputs": [],
   "source": [
    "import easyagents\n",
    "\n",
    "easyagents.agents.seed = 0"
   ],
   "metadata": {
    "collapsed": false,
    "pycharm": {
     "name": "#%%\n",
     "is_executing": false
    }
   }
  },
  {
   "cell_type": "markdown",
   "source": [
    "Once set, the seed is applied before each call to train. Let's validate this using our log.Agent callback:"
   ],
   "metadata": {
    "collapsed": false,
    "pycharm": {
     "name": "#%% md\n"
    }
   }
  },
  {
   "cell_type": "code",
   "execution_count": 2,
   "outputs": [],
   "source": [
    "from easyagents.agents import PpoAgent\n",
    "from easyagents.callbacks import duration, log\n",
    "\n",
    "ppoAgent = PpoAgent('CartPole-v0', backend='tensorforce')\n",
    "ppoAgent.train([log.Agent(), duration.Fast()], default_plots=False)"
   ],
   "metadata": {
    "collapsed": false,
    "pycharm": {
     "name": "#%%\n",
     "is_executing": false
    }
   }
  },
  {
   "cell_type": "markdown",
   "source": [
    "Note that at the very beginning the calls to set the seeds for tensorflow, numpy and python.\n",
    "\n",
    "## Gym steps logging\n",
    "Use the log.Step() callback to investigate how the agent interacts with the gym environment:"
   ],
   "metadata": {
    "collapsed": false,
    "pycharm": {
     "name": "#%% md\n"
    }
   }
  },
  {
   "cell_type": "code",
   "execution_count": 3,
   "outputs": [],
   "source": [
    "from easyagents.agents import PpoAgent\n",
    "from easyagents.callbacks import duration, log\n",
    "\n",
    "ppoAgent = PpoAgent('CartPole-v0')\n",
    "ppoAgent.train([log.Step(), duration.Fast()], default_plots=False)"
   ],
   "metadata": {
    "collapsed": false,
    "pycharm": {
     "name": "#%%\n",
     "is_executing": false
    }
   }
  },
  {
   "cell_type": "markdown",
   "source": [
    "For each call to the gym environments step method you get a log entry, along with the action taken and current\n",
    "observation. Each entry starts with \n",
    "\n",
    "[{gym_env_id} {instance_id}:{episode_in_instance}:{step_in_episode}]\n",
    "\n",
    "followed by the id of the current training iteration as well as the current iteration step count.\n",
    "If in a evaluation period you get the same statistics for the current evaluation episode.\n",
    "\n",
    "You may easily implement other log callbacks to produce statistics specific to your problem domain.\n",
    "\n",
    "## Fixing a jupyter output cell clearing\n",
    "It seems that jupyter / matplotlib backend changes its behaviour of outputing the current figure of an \n",
    "evaluated cell (if you can help here, please let use know by \n",
    "[creating an issue](https://github.com/christianhidber/easyagents/issues/new/choose)).\n",
    "\n",
    "Nonetheless you may directly control easyagents jupyter ouput cell clearing behaviour through the plot.Clear()\n",
    "callback:\n"
   ],
   "metadata": {
    "collapsed": false,
    "pycharm": {
     "name": "#%% md\n"
    }
   }
  },
  {
   "cell_type": "code",
   "execution_count": null,
   "outputs": [],
   "source": [
    "from easyagents.agents import PpoAgent\n",
    "from easyagents.callbacks import duration, log\n",
    "\n",
    "ppoAgent = PpoAgent('CartPole-v0')\n",
    "ppoAgent.train([log.Clear(on_train=False,on_play=False), duration.Fast()])"
   ],
   "metadata": {
    "collapsed": false,
    "pycharm": {
     "name": "#%%\n"
    }
   }
  },
  {
   "cell_type": "markdown",
   "source": [
    "If your plot gets \"doubled\" after cell evaluation set on_train / on_play to True, if it disappears to False."
   ],
   "metadata": {
    "collapsed": false,
    "pycharm": {
     "name": "#%% md\n"
    }
   }
  }
 ],
 "metadata": {
  "accelerator": "GPU",
  "colab": {
   "collapsed_sections": [
    "zpzHtN3-kQ26",
    "w3OdHyWEEEwy",
    "bzoq0VM85p46"
   ],
   "include_colab_link": true,
   "name": "easyagents_orso.ipynb",
   "provenance": [],
   "version": "0.3.2"
  },
  "kernelspec": {
   "display_name": "Python 3",
   "language": "python",
   "name": "python3"
  },
  "language_info": {
   "codemirror_mode": {
    "name": "ipython",
    "version": 3
   },
   "file_extension": ".py",
   "mimetype": "text/x-python",
   "name": "python",
   "nbconvert_exporter": "python",
   "pygments_lexer": "ipython3",
   "version": "3.7.4"
  },
  "pycharm": {
   "stem_cell": {
    "cell_type": "raw",
    "source": [],
    "metadata": {
     "collapsed": false
    }
   }
  }
 },
 "nbformat": 4,
 "nbformat_minor": 1
}