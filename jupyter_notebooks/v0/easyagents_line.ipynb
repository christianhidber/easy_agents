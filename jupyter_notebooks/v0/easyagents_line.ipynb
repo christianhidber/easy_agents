{
 "cells": [
  {
   "cell_type": "markdown",
   "metadata": {
    "colab_type": "text",
    "id": "view-in-github"
   },
   "source": [
    "<a href=\"https://colab.research.google.com/github/christianhidber/easyagents/blob/master/jupyter_notebooks/easyagents_line.ipynb\" target=\"_parent\"><img src=\"https://colab.research.google.com/assets/colab-badge.svg\" alt=\"Open In Colab\"/></a>"
   ]
  },
  {
   "cell_type": "markdown",
   "metadata": {
    "colab_type": "text",
    "id": "eU7ylMh1kQ2y"
   },
   "source": [
    "# Line World\n",
    "\n",
    "* an agent lives in a finite linear world of uneven elements\n",
    "* at each moment it is in a certain position\n",
    "* initial position is the middle\n",
    "* some positions gain rewards, some don't\n",
    "* rewards are between 0 and 15\n",
    "* agent can either move left or right\n",
    "* Objective: maximize total reward = sum(rewards) + sum(steps)\n",
    "* Cost per step: -1\n",
    "* Done Condition: agent is at pos 0 or total reward <= -20\n",
    "\n",
    "<img src='https://raw.githubusercontent.com/christianhidber/easyagents/master/images/line-world.png'>"
   ]
  },
  {
   "cell_type": "markdown",
   "metadata": {
    "colab_type": "text",
    "id": "sQ8Nfk3MKgLt"
   },
   "source": [
    "### Install gym, tensorflow, tf-agents,..., setup display"
   ]
  },
  {
   "cell_type": "code",
   "execution_count": 1,
   "metadata": {
    "colab": {
     "base_uri": "https://localhost:8080/",
     "height": 323
    },
    "colab_type": "code",
    "id": "QFQXRNBFI5Re",
    "outputId": "25cedc3a-7a8a-4c28-b1cc-0a4bc91baceb",
    "pycharm": {
     "is_executing": false
    }
   },
   "outputs": [],
   "source": [
    "import sys\n",
    "if 'google.colab' in sys.modules:\n",
    "    !pip install -q easyagents\n",
    "    !pip install -q networkx==2.3.0 "
   ]
  },
  {
   "cell_type": "markdown",
   "metadata": {
    "colab_type": "text",
    "id": "aS8yqznR8UL7",
    "pycharm": {
     "name": "#%% md\n"
    }
   },
   "source": [
    "##### suppress package warnings, in colab: load additional packages for rendering"
   ]
  },
  {
   "cell_type": "code",
   "execution_count": 2,
   "metadata": {
    "colab": {
     "base_uri": "https://localhost:8080/",
     "height": 34
    },
    "colab_type": "code",
    "id": "DcilvDdeI5Ri",
    "outputId": "4058179a-8dc5-4068-8f50-3e0883ad7aa7",
    "pycharm": {
     "is_executing": false
    }
   },
   "outputs": [],
   "source": [
    "import warnings\n",
    "import matplotlib.pyplot as plt\n",
    "\n",
    "warnings.filterwarnings('ignore')\n",
    "if 'google.colab' in sys.modules:\n",
    "    !apt-get install xvfb >/dev/null\n",
    "    !pip install pyvirtualdisplay >/dev/null    \n",
    "    \n",
    "    from pyvirtualdisplay import Display\n",
    "    Display(visible=0, size=(960, 720)).start() "
   ]
  },
  {
   "cell_type": "markdown",
   "metadata": {
    "colab_type": "text",
    "id": "vkOUbvfNZCyo"
   },
   "source": [
    "## Definition of OpenAI Gym Environment "
   ]
  },
  {
   "cell_type": "code",
   "execution_count": 3,
   "metadata": {
    "colab": {},
    "colab_type": "code",
    "id": "6yEvuCliwJiD",
    "pycharm": {
     "is_executing": false
    }
   },
   "outputs": [],
   "source": [
    "import numpy as np\n",
    "import math\n",
    "\n",
    "import gym\n",
    "from gym import error, spaces, utils\n",
    "\n",
    "import matplotlib.pyplot as plt\n",
    "from IPython.display import display, clear_output\n",
    "\n",
    "LEFT = 0\n",
    "RIGHT = 1\n",
    "\n",
    "class LineWorldEnv(gym.Env):\n",
    "\n",
    "    def __init__(self, state=[10, 0, 0, 5, 0, 2, 15]):\n",
    "        self.state = np.array(state)\n",
    "        # the agent can perform  different actions\n",
    "        number_of_actions = 2\n",
    "        self.action_space = spaces.Discrete(number_of_actions)\n",
    "\n",
    "        self.size_of_world = len(state)\n",
    "        \n",
    "        self.max_reward = 15\n",
    "\n",
    "        # the environment's state is described by the position of the agent and the remaining rewards\n",
    "        low = np.append([0], np.full(self.size_of_world, 0))\n",
    "        high = np.append([self.size_of_world - 1], np.full(self.size_of_world, self.max_reward))\n",
    "        self.observation_space = spaces.Box(low=low,\n",
    "                                            high=high,\n",
    "                                            dtype=np.float32)\n",
    "\n",
    "        self.reward_range = (-1, 1)\n",
    "        # 32 is only theoretical, because we need to travel at least 9 steps, leaving us with 23 practically\n",
    "        self.optimum = self.state.sum() - 9\n",
    "\n",
    "        self._figure = None\n",
    "\n",
    "        self.reset()\n",
    "\n",
    "    def get_observation(self):\n",
    "        return np.append([self.pos], self.remaining_rewards)\n",
    "\n",
    "    def reset(self):\n",
    "        self.total_reward = 0\n",
    "        self.done = False\n",
    "        self.pos = math.floor(len(self.state) / 2)\n",
    "        self.steps = 0\n",
    "\n",
    "        self.remaining_rewards = np.array(self.state, copy=True)\n",
    "        return self.get_observation()\n",
    "\n",
    "    def step(self, action):\n",
    "        if action == LEFT and self.pos != 0:\n",
    "          self.pos -= 1\n",
    "        elif self.pos < self.size_of_world -1:\n",
    "          self.pos += 1\n",
    "\n",
    "        reward = self.remaining_rewards[self.pos] - 1\n",
    "        normalized_reward = reward / self.optimum\n",
    "        self.total_reward += normalized_reward\n",
    "        self.remaining_rewards[self.pos] = 0\n",
    "\n",
    "        if self.pos == 0 or self.total_reward * self.optimum <= -20:\n",
    "          self.done = True\n",
    "        self.steps += 1\n",
    "\n",
    "        observation = self.get_observation()\n",
    "        info = None\n",
    "        return observation, normalized_reward, self.done, info\n",
    "\n",
    "    def _render_to_ansi(self):\n",
    "        return 'position: {position}, remaining rewards: {rewards}, total reward so far: {total}, normalized total reward: {normalized_total}, steps so far: {steps}, game done: {done}'.format(\n",
    "            position=self.pos, \n",
    "            rewards=self.remaining_rewards, \n",
    "            total=self.total_reward * self.optimum, \n",
    "            normalized_total = self.total_reward,\n",
    "            done=self.done,\n",
    "            steps=self.steps)              \n",
    "\n",
    "    def _render_to_figure(self):\n",
    "        \"\"\" Renders the current state as a graph with matplotlib \"\"\"\n",
    "        if self._figure is not None:\n",
    "            plt.close(self._figure)\n",
    "        self._figure, ax = plt.subplots(1, figsize=(8, 4))\n",
    "        ax.set_ylim(bottom=-1, top=self.max_reward + 1)\n",
    "        x = np.arange(0, self.size_of_world, 1, dtype=np.uint8)\n",
    "        y = self.remaining_rewards\n",
    "        plt.plot([self.pos, self.pos], [0, 2], 'r^-')\n",
    "        ax.scatter(x, y, s=75)\n",
    "        self._figure.canvas.draw()\n",
    "        \n",
    "    def _render_to_human(self):\n",
    "        \"\"\" show render_to_figure in a jupyter cell. \n",
    "            the result of each call is rendered in the same cell\"\"\"\n",
    "        clear_output(wait=True)\n",
    "        self._render_to_figure()\n",
    "        plt.pause(0.01)\n",
    "        \n",
    "    def _render_to_rgb(self):\n",
    "        \"\"\" convert the output of render_to_figure to a rgb_array \"\"\"\n",
    "        self._render_to_figure()\n",
    "        self._figure.canvas.draw()\n",
    "        buf = self._figure.canvas.tostring_rgb()\n",
    "        num_cols, num_rows = self._figure.canvas.get_width_height()\n",
    "        plt.close(self._figure)\n",
    "        self._figure = None\n",
    "        result = np.fromstring(buf, dtype=np.uint8).reshape(num_rows, num_cols, 3)\n",
    "        return result        \n",
    "\n",
    "    def render(self, mode='ansi'):\n",
    "        if mode == 'ansi':\n",
    "            return self._render_to_ansi()\n",
    "        elif mode == 'human':\n",
    "            return self._render_to_human()\n",
    "        elif mode == 'rgb_array':\n",
    "            return self._render_to_rgb()\n",
    "        else:\n",
    "            super().render(mode=mode)\n"
   ]
  },
  {
   "cell_type": "code",
   "execution_count": 4,
   "metadata": {
    "colab": {},
    "colab_type": "code",
    "id": "_fHrBrxxI5Rt",
    "pycharm": {
     "is_executing": false
    }
   },
   "outputs": [],
   "source": [
    "env = LineWorldEnv()"
   ]
  },
  {
   "cell_type": "code",
   "execution_count": 5,
   "metadata": {
    "colab": {
     "base_uri": "https://localhost:8080/",
     "height": 34
    },
    "colab_type": "code",
    "id": "hxcQG_ruV06p",
    "outputId": "13426639-34f2-4386-c393-03c84f0789a0"
   },
   "outputs": [
    {
     "data": {
      "text/plain": [
       "'position: 3, remaining rewards: [10  0  0  5  0  2 15], total reward so far: 0, normalized total reward: 0, steps so far: 0, game done: False'"
      ]
     },
     "execution_count": 5,
     "metadata": {},
     "output_type": "execute_result"
    }
   ],
   "source": [
    "env.render()"
   ]
  },
  {
   "cell_type": "code",
   "execution_count": 6,
   "metadata": {
    "colab": {
     "base_uri": "https://localhost:8080/",
     "height": 34
    },
    "colab_type": "code",
    "id": "SJARCo5U9PfR",
    "outputId": "9329d24a-a562-47ee-911a-d845d440c9e1"
   },
   "outputs": [
    {
     "data": {
      "text/plain": [
       "array([ 3, 10,  0,  0,  5,  0,  2, 15])"
      ]
     },
     "execution_count": 6,
     "metadata": {},
     "output_type": "execute_result"
    }
   ],
   "source": [
    "# shows the raw observation, position is first, then all rest rewards\n",
    "env.reset()"
   ]
  },
  {
   "cell_type": "code",
   "execution_count": 7,
   "metadata": {
    "colab": {
     "base_uri": "https://localhost:8080/",
     "height": 34
    },
    "colab_type": "code",
    "id": "s2RYX2_2I5Ry",
    "outputId": "1f13297c-da10-436d-a396-bf58f4545880",
    "pycharm": {
     "is_executing": false,
     "name": "#%%\n"
    }
   },
   "outputs": [
    {
     "data": {
      "text/plain": [
       "'position: 4, remaining rewards: [10  0  0  5  0  2 15], total reward so far: -1.0, normalized total reward: -0.043478260869565216, steps so far: 1, game done: False'"
      ]
     },
     "execution_count": 7,
     "metadata": {},
     "output_type": "execute_result"
    }
   ],
   "source": [
    "env.step(RIGHT)\n",
    "env.render()"
   ]
  },
  {
   "cell_type": "code",
   "execution_count": 8,
   "metadata": {
    "colab": {
     "base_uri": "https://localhost:8080/",
     "height": 34
    },
    "colab_type": "code",
    "id": "mGWH4CQCBSEk",
    "outputId": "8e10f4a8-1781-4b3d-f185-d8260f185af7"
   },
   "outputs": [
    {
     "data": {
      "text/plain": [
       "'position: 5, remaining rewards: [10  0  0  5  0  0 15], total reward so far: 0.0, normalized total reward: 0.0, steps so far: 2, game done: False'"
      ]
     },
     "execution_count": 8,
     "metadata": {},
     "output_type": "execute_result"
    }
   ],
   "source": [
    "env.step(RIGHT)\n",
    "env.render()"
   ]
  },
  {
   "cell_type": "code",
   "execution_count": 9,
   "metadata": {
    "colab": {
     "base_uri": "https://localhost:8080/",
     "height": 34
    },
    "colab_type": "code",
    "id": "JdHyE42vBhbC",
    "outputId": "1c91a942-6abb-4556-cd6c-f4205bf495a1"
   },
   "outputs": [
    {
     "data": {
      "text/plain": [
       "'position: 6, remaining rewards: [10  0  0  5  0  0  0], total reward so far: 14.0, normalized total reward: 0.6086956521739131, steps so far: 3, game done: False'"
      ]
     },
     "execution_count": 9,
     "metadata": {},
     "output_type": "execute_result"
    }
   ],
   "source": [
    "env.step(RIGHT)\n",
    "env.render()"
   ]
  },
  {
   "cell_type": "code",
   "execution_count": 10,
   "metadata": {
    "colab": {
     "base_uri": "https://localhost:8080/",
     "height": 34
    },
    "colab_type": "code",
    "id": "5QRACggIChZK",
    "outputId": "746c46a9-d1ac-40f2-e8a2-39564dd61925"
   },
   "outputs": [
    {
     "data": {
      "text/plain": [
       "'position: 6, remaining rewards: [10  0  0  5  0  0  0], total reward so far: 13.000000000000002, normalized total reward: 0.5652173913043479, steps so far: 4, game done: False'"
      ]
     },
     "execution_count": 10,
     "metadata": {},
     "output_type": "execute_result"
    }
   ],
   "source": [
    "env.step(RIGHT)\n",
    "env.render()"
   ]
  },
  {
   "cell_type": "code",
   "execution_count": 11,
   "metadata": {
    "colab": {
     "base_uri": "https://localhost:8080/",
     "height": 269
    },
    "colab_type": "code",
    "id": "RvfFHbSfckCy",
    "outputId": "9a4d11f6-0be4-49e9-824c-5e8958039690"
   },
   "outputs": [
    {
     "data": {
      "image/png": "[encoded data removed]",
      "text/plain": [
       "<Figure size 576x288 with 1 Axes>"
      ]
     },
     "metadata": {
      "needs_background": "light"
     },
     "output_type": "display_data"
    }
   ],
   "source": [
    "env.render(mode='human')"
   ]
  },
  {
   "cell_type": "code",
   "execution_count": 12,
   "metadata": {
    "colab": {
     "base_uri": "https://localhost:8080/",
     "height": 34
    },
    "colab_type": "code",
    "id": "r4zbZtCsBx7x",
    "outputId": "8b114ddd-9583-4c0f-e9ea-77250525566f"
   },
   "outputs": [
    {
     "data": {
      "text/plain": [
       "'position: 5, remaining rewards: [10  0  0  5  0  0  0], total reward so far: 12.000000000000002, normalized total reward: 0.5217391304347827, steps so far: 5, game done: False'"
      ]
     },
     "execution_count": 12,
     "metadata": {},
     "output_type": "execute_result"
    }
   ],
   "source": [
    "env.step(LEFT)\n",
    "env.render()"
   ]
  },
  {
   "cell_type": "code",
   "execution_count": 13,
   "metadata": {
    "colab": {
     "base_uri": "https://localhost:8080/",
     "height": 34
    },
    "colab_type": "code",
    "id": "5eso3wdfFfGu",
    "outputId": "b9b60e05-4c36-4005-dd6b-07f263d0f13c"
   },
   "outputs": [
    {
     "data": {
      "text/plain": [
       "'position: 4, remaining rewards: [10  0  0  5  0  0  0], total reward so far: 11.000000000000004, normalized total reward: 0.4782608695652175, steps so far: 6, game done: False'"
      ]
     },
     "execution_count": 13,
     "metadata": {},
     "output_type": "execute_result"
    }
   ],
   "source": [
    "env.step(LEFT)\n",
    "env.render()"
   ]
  },
  {
   "cell_type": "code",
   "execution_count": 14,
   "metadata": {
    "colab": {
     "base_uri": "https://localhost:8080/",
     "height": 34
    },
    "colab_type": "code",
    "id": "_FUidR2SFgq2",
    "outputId": "28b98ea7-bf43-4c67-e4e6-2fdd62253174"
   },
   "outputs": [
    {
     "data": {
      "text/plain": [
       "'position: 3, remaining rewards: [10  0  0  0  0  0  0], total reward so far: 15.000000000000004, normalized total reward: 0.6521739130434784, steps so far: 7, game done: False'"
      ]
     },
     "execution_count": 14,
     "metadata": {},
     "output_type": "execute_result"
    }
   ],
   "source": [
    "env.step(LEFT)\n",
    "env.render()"
   ]
  },
  {
   "cell_type": "code",
   "execution_count": 15,
   "metadata": {
    "colab": {
     "base_uri": "https://localhost:8080/",
     "height": 34
    },
    "colab_type": "code",
    "id": "zaPJ-GDtFnRL",
    "outputId": "2c21a505-b50d-4925-b842-2409988a8bde"
   },
   "outputs": [
    {
     "data": {
      "text/plain": [
       "'position: 2, remaining rewards: [10  0  0  0  0  0  0], total reward so far: 14.000000000000004, normalized total reward: 0.6086956521739132, steps so far: 8, game done: False'"
      ]
     },
     "execution_count": 15,
     "metadata": {},
     "output_type": "execute_result"
    }
   ],
   "source": [
    "env.step(LEFT)\n",
    "env.render()"
   ]
  },
  {
   "cell_type": "code",
   "execution_count": 16,
   "metadata": {
    "colab": {
     "base_uri": "https://localhost:8080/",
     "height": 34
    },
    "colab_type": "code",
    "id": "RdmP61D_FpTE",
    "outputId": "fddb93c8-28b0-4aca-dace-177a6a571355"
   },
   "outputs": [
    {
     "data": {
      "text/plain": [
       "'position: 1, remaining rewards: [10  0  0  0  0  0  0], total reward so far: 13.000000000000004, normalized total reward: 0.565217391304348, steps so far: 9, game done: False'"
      ]
     },
     "execution_count": 16,
     "metadata": {},
     "output_type": "execute_result"
    }
   ],
   "source": [
    "env.step(LEFT)\n",
    "env.render()"
   ]
  },
  {
   "cell_type": "code",
   "execution_count": 17,
   "metadata": {
    "colab": {
     "base_uri": "https://localhost:8080/",
     "height": 34
    },
    "colab_type": "code",
    "id": "y1dxqY92FqV2",
    "outputId": "a29bcf3e-de6e-4855-e377-fc8bbf9e57b1"
   },
   "outputs": [
    {
     "data": {
      "text/plain": [
       "'position: 0, remaining rewards: [0 0 0 0 0 0 0], total reward so far: 22.000000000000007, normalized total reward: 0.956521739130435, steps so far: 10, game done: True'"
      ]
     },
     "execution_count": 17,
     "metadata": {},
     "output_type": "execute_result"
    }
   ],
   "source": [
    "env.step(LEFT)\n",
    "env.render()"
   ]
  },
  {
   "cell_type": "code",
   "execution_count": 18,
   "metadata": {
    "colab": {
     "base_uri": "https://localhost:8080/",
     "height": 269
    },
    "colab_type": "code",
    "id": "SpDy_4EqZCzI",
    "outputId": "b3963062-5719-4d26-e2ee-32af7c21c79c"
   },
   "outputs": [
    {
     "data": {
      "image/png": "[encoded data removed]",
      "text/plain": [
       "<Figure size 576x288 with 1 Axes>"
      ]
     },
     "metadata": {
      "needs_background": "light"
     },
     "output_type": "display_data"
    }
   ],
   "source": [
    "env.render(mode='human')"
   ]
  },
  {
   "cell_type": "markdown",
   "metadata": {
    "colab_type": "text",
    "id": "6lV8D-SfZCzK"
   },
   "source": [
    "\n",
    "### Register with OpenAI Gym"
   ]
  },
  {
   "cell_type": "code",
   "execution_count": 19,
   "metadata": {},
   "outputs": [
    {
     "data": {
      "text/plain": [
       "['C:\\\\Users\\\\olive\\\\Development\\\\easyagents\\\\jupyter_notebooks',\n",
       " 'c:\\\\users\\\\olive\\\\anaconda3\\\\envs\\\\ea\\\\python37.zip',\n",
       " 'c:\\\\users\\\\olive\\\\anaconda3\\\\envs\\\\ea\\\\DLLs',\n",
       " 'c:\\\\users\\\\olive\\\\anaconda3\\\\envs\\\\ea\\\\lib',\n",
       " 'c:\\\\users\\\\olive\\\\anaconda3\\\\envs\\\\ea',\n",
       " '',\n",
       " 'C:\\\\Users\\\\olive\\\\AppData\\\\Roaming\\\\Python\\\\Python37\\\\site-packages',\n",
       " 'c:\\\\users\\\\olive\\\\anaconda3\\\\envs\\\\ea\\\\lib\\\\site-packages',\n",
       " 'c:\\\\users\\\\olive\\\\anaconda3\\\\envs\\\\ea\\\\lib\\\\site-packages\\\\IPython\\\\extensions',\n",
       " 'C:\\\\Users\\\\olive\\\\.ipython',\n",
       " '..']"
      ]
     },
     "execution_count": 19,
     "metadata": {},
     "output_type": "execute_result"
    }
   ],
   "source": [
    "# only for local installation\n",
    "import sys\n",
    "sys.path.append('..')\n",
    "sys.path"
   ]
  },
  {
   "cell_type": "code",
   "execution_count": 20,
   "metadata": {
    "colab": {},
    "colab_type": "code",
    "id": "OS3pnnbAI5R9",
    "pycharm": {
     "is_executing": false
    }
   },
   "outputs": [],
   "source": [
    "from easyagents.easyenv import register_with_gym\n",
    "\n",
    "env_name=\"LineWorld-v0\"\n",
    "register_with_gym(gym_env_name=env_name, entry_point=LineWorldEnv, max_episode_steps=100)"
   ]
  },
  {
   "cell_type": "markdown",
   "metadata": {
    "colab_type": "text",
    "id": "_uEfpOeeI5R8"
   },
   "source": [
    "# Train policy with tfagents PpoAgent"
   ]
  },
  {
   "cell_type": "code",
   "execution_count": 28,
   "metadata": {},
   "outputs": [
    {
     "name": "stdout",
     "output_type": "stream",
     "text": [
      "1.15.0-dev20190820\n"
     ]
    }
   ],
   "source": [
    "import tensorflow as tf\n",
    "print(tf.__version__)"
   ]
  },
  {
   "cell_type": "code",
   "execution_count": 29,
   "metadata": {},
   "outputs": [
    {
     "data": {
      "text/plain": [
       "True"
      ]
     },
     "execution_count": 29,
     "metadata": {},
     "output_type": "execute_result"
    }
   ],
   "source": [
    "# let's see if we have a GPU available\n",
    "tf.test.is_gpu_available()"
   ]
  },
  {
   "cell_type": "code",
   "execution_count": 21,
   "metadata": {
    "colab": {
     "base_uri": "https://localhost:8080/",
     "height": 417
    },
    "colab_type": "code",
    "id": "gFISrkwhI5SZ",
    "outputId": "64df6871-a912-440a-92f6-9c08f79d749a",
    "pycharm": {
     "is_executing": false
    }
   },
   "outputs": [
    {
     "data": {
      "image/png": "[encoded data removed]",
      "text/plain": [
       "<Figure size 1224x360 with 4 Axes>"
      ]
     },
     "metadata": {},
     "output_type": "display_data"
    },
    {
     "name": "stdout",
     "output_type": "stream",
     "text": [
      "Wall time: 1min 27s\n"
     ]
    }
   ],
   "source": [
    "%%time\n",
    "\n",
    "from easyagents.tfagents import PpoAgent\n",
    "from easyagents.config import Training\n",
    "\n",
    "training=Training( num_iterations = 50,\n",
    "                   num_episodes_per_iteration = 10,\n",
    "                   max_steps_per_episode = 50,\n",
    "                   num_epochs_per_iteration = 5 )\n",
    "\n",
    "ppoAgent = PpoAgent(    gym_env_name = env_name,\n",
    "                        fc_layers=(500,500), \n",
    "                        training=training,\n",
    "                        learning_rate=1e-4\n",
    "                   )\n",
    "ppoAgent.train()"
   ]
  },
  {
   "cell_type": "code",
   "execution_count": 22,
   "metadata": {
    "colab": {
     "base_uri": "https://localhost:8080/",
     "height": 269
    },
    "colab_type": "code",
    "id": "2oeN8hhRJqMr",
    "outputId": "7415b19c-09e0-463c-b20e-c69c8c2418fb"
   },
   "outputs": [
    {
     "data": {
      "image/png": "[encoded data removed]",
      "text/plain": [
       "<Figure size 576x288 with 1 Axes>"
      ]
     },
     "metadata": {
      "needs_background": "light"
     },
     "output_type": "display_data"
    }
   ],
   "source": [
    "ppoAgent.render_episodes(num_episodes=1)"
   ]
  },
  {
   "cell_type": "markdown",
   "metadata": {
    "colab_type": "text",
    "id": "8OJYNSBaI5Sf"
   },
   "source": [
    "### Visualize training and policy (with custom y-limits and movie)"
   ]
  },
  {
   "cell_type": "code",
   "execution_count": 23,
   "metadata": {
    "colab": {
     "base_uri": "https://localhost:8080/",
     "height": 338
    },
    "colab_type": "code",
    "id": "JVAsAknHI5Sf",
    "outputId": "7162abb2-daf8-49ec-f323-e6b0f7764228",
    "pycharm": {
     "is_executing": false
    }
   },
   "outputs": [
    {
     "data": {
      "image/png": "[encoded data removed]",
      "text/plain": [
       "<Figure size 1224x360 with 3 Axes>"
      ]
     },
     "metadata": {
      "needs_background": "light"
     },
     "output_type": "display_data"
    }
   ],
   "source": [
    "_ = ppoAgent.plot_episodes(ylim=[None,(0,1),(0,50)])"
   ]
  },
  {
   "cell_type": "code",
   "execution_count": 24,
   "metadata": {
    "colab": {
     "base_uri": "https://localhost:8080/",
     "height": 501
    },
    "colab_type": "code",
    "id": "C0XVkNWaI5Sj",
    "outputId": "dd251e40-59c8-474b-d455-0a34d5bdad42",
    "pycharm": {
     "is_executing": false,
     "name": "#%%\n"
    }
   },
   "outputs": [
    {
     "data": {
      "text/html": [
       "\n",
       "        <video width=\"640\" height=\"480\" controls>\n",
       "            <source src=\"data:video/mp4;base64,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\" type=\"video/mp4\">\n",
       "        Your browser does not support the video tag.\n",
       "        </video>"
      ],
      "text/plain": [
       "<IPython.core.display.HTML object>"
      ]
     },
     "metadata": {},
     "output_type": "display_data"
    }
   ],
   "source": [
    "ppoAgent.render_episodes_to_jupyter(num_episodes=1, fps=1)"
   ]
  },
  {
   "cell_type": "markdown",
   "metadata": {
    "colab_type": "text",
    "id": "HSh2whpFZCza"
   },
   "source": [
    "# Train policy with tfagents Reinforce (aka Vanilla Policy Gradient)"
   ]
  },
  {
   "cell_type": "code",
   "execution_count": 25,
   "metadata": {
    "colab": {
     "base_uri": "https://localhost:8080/",
     "height": 417
    },
    "colab_type": "code",
    "id": "NTHjAT-6Z7UQ",
    "outputId": "59507604-9404-4dbf-cfd0-6de7070be5df"
   },
   "outputs": [
    {
     "data": {
      "image/png": "[encoded data removed]",
      "text/plain": [
       "<Figure size 1224x360 with 4 Axes>"
      ]
     },
     "metadata": {},
     "output_type": "display_data"
    },
    {
     "name": "stdout",
     "output_type": "stream",
     "text": [
      "Wall time: 3min 17s\n"
     ]
    }
   ],
   "source": [
    "%%time\n",
    "\n",
    "from easyagents.tfagents import ReinforceAgent\n",
    "from easyagents.config import Training\n",
    "\n",
    "training=Training( num_iterations = 200,\n",
    "                   num_episodes_per_iteration = 10,\n",
    "                   max_steps_per_episode = 50,\n",
    "                   num_epochs_per_iteration = 5 )\n",
    "\n",
    "reinforceAgent = ReinforceAgent(    gym_env_name = env_name,\n",
    "                        fc_layers=(500,500), \n",
    "                        training=training,\n",
    "                        learning_rate=1e-4\n",
    "                   )\n",
    "reinforceAgent.train()"
   ]
  }
 ],
 "metadata": {
  "accelerator": "GPU",
  "colab": {
   "collapsed_sections": [
    "zpzHtN3-kQ26",
    "w3OdHyWEEEwy",
    "bzoq0VM85p46"
   ],
   "include_colab_link": true,
   "name": "easyagents_line.ipynb",
   "provenance": [],
   "version": "0.3.2"
  },
  "kernelspec": {
   "display_name": "Python 3",
   "language": "python",
   "name": "python3"
  },
  "language_info": {
   "codemirror_mode": {
    "name": "ipython",
    "version": 3
   },
   "file_extension": ".py",
   "mimetype": "text/x-python",
   "name": "python",
   "nbconvert_exporter": "python",
   "pygments_lexer": "ipython3",
   "version": "3.7.4"
  },
  "pycharm": {
   "stem_cell": {
    "cell_type": "raw",
    "metadata": {
     "collapsed": false
    },
    "source": []
   }
  }
 },
 "nbformat": 4,
 "nbformat_minor": 1
}
