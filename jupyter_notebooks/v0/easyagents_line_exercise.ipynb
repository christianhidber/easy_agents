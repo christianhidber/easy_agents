{
  "nbformat": 4,
  "nbformat_minor": 0,
  "metadata": {
    "accelerator": "GPU",
    "colab": {
      "name": "easyagents_line_exercise.ipynb",
      "version": "0.3.2",
      "provenance": [],
      "collapsed_sections": [
        "zpzHtN3-kQ26",
        "w3OdHyWEEEwy",
        "bzoq0VM85p46"
      ],
      "include_colab_link": true
    },
    "kernelspec": {
      "display_name": "Python 3",
      "language": "python",
      "name": "python3"
    },
    "language_info": {
      "codemirror_mode": {
        "name": "ipython",
        "version": 3
      },
      "file_extension": ".py",
      "mimetype": "text/x-python",
      "name": "python",
      "nbconvert_exporter": "python",
      "pygments_lexer": "ipython3",
      "version": "3.7.3"
    },
    "pycharm": {
      "stem_cell": {
        "cell_type": "raw",
        "metadata": {
          "collapsed": false
        },
        "source": []
      }
    }
  },
  "cells": [
    {
      "cell_type": "markdown",
      "metadata": {
        "id": "view-in-github",
        "colab_type": "text"
      },
      "source": [
        "<a href=\"https://colab.research.google.com/github/christianhidber/easyagents/blob/master/jupyter_notebooks/easyagents_line_exercise.ipynb\" target=\"_parent\"><img src=\"https://colab.research.google.com/assets/colab-badge.svg\" alt=\"Open In Colab\"/></a>"
      ]
    },
    {
      "cell_type": "markdown",
      "metadata": {
        "colab_type": "text",
        "id": "eU7ylMh1kQ2y"
      },
      "source": [
        "# Line World\n",
        "\n",
        "* an agent lives in a finite linear world of uneven elements\n",
        "* at each moment it is in a certain position\n",
        "* initial position is the middle\n",
        "* some positions gain rewards, some don't\n",
        "* rewards are between 0 and 15\n",
        "* agent can either move left or right\n",
        "* Objective: maximize total reward = sum(rewards) + sum(steps)\n",
        "* Cost per step: -1\n",
        "* Done Condition: agent is at pos 0 or total reward <= -20\n",
        "\n",
        "<img src='https://raw.githubusercontent.com/christianhidber/easyagents/master/images/line-world.png'>"
      ]
    },
    {
      "cell_type": "markdown",
      "metadata": {
        "colab_type": "text",
        "id": "sQ8Nfk3MKgLt"
      },
      "source": [
        "### Install gym, tensorflow, tf-agents,..., setup display"
      ]
    },
    {
      "cell_type": "code",
      "metadata": {
        "colab_type": "code",
        "id": "QFQXRNBFI5Re",
        "pycharm": {
          "is_executing": false
        },
        "colab": {}
      },
      "source": [
        "import sys\n",
        "if 'google.colab' in sys.modules:\n",
        "    !pip install -q easyagents\n",
        "    !pip install -q networkx==2.3.0 "
      ],
      "execution_count": 0,
      "outputs": []
    },
    {
      "cell_type": "markdown",
      "metadata": {
        "colab_type": "text",
        "id": "aS8yqznR8UL7",
        "pycharm": {
          "name": "#%% md\n"
        }
      },
      "source": [
        "##### suppress package warnings, in colab: load additional packages for rendering"
      ]
    },
    {
      "cell_type": "code",
      "metadata": {
        "colab_type": "code",
        "id": "DcilvDdeI5Ri",
        "outputId": "63c36d14-343d-41c8-ec55-e32dde15bfbd",
        "pycharm": {
          "is_executing": false
        },
        "colab": {
          "base_uri": "https://localhost:8080/",
          "height": 34
        }
      },
      "source": [
        "import sys\n",
        "import warnings\n",
        "import matplotlib.pyplot as plt\n",
        "\n",
        "warnings.filterwarnings('ignore')\n",
        "if 'google.colab' in sys.modules:\n",
        "    !apt-get install xvfb >/dev/null\n",
        "    !pip install pyvirtualdisplay >/dev/null    \n",
        "    \n",
        "    from pyvirtualdisplay import Display\n",
        "    Display(visible=0, size=(960, 720)).start() "
      ],
      "execution_count": 2,
      "outputs": [
        {
          "output_type": "stream",
          "text": [
            "xdpyinfo was not found, X start can not be checked! Please install xdpyinfo!\n"
          ],
          "name": "stderr"
        }
      ]
    },
    {
      "cell_type": "markdown",
      "metadata": {
        "colab_type": "text",
        "id": "w3OdHyWEEEwy"
      },
      "source": [
        "# Define Gym Environment\n",
        "\n",
        "## What you need to define\n",
        "1. Actions\n",
        "1. Observation\n",
        "1. Reward\n",
        "1. Game done?\n",
        "\n",
        "## Remember how an environment looks like\n",
        "\n",
        "```python\n",
        "class MyEnv(gym.Env):\n",
        "  def __init__(self):\n",
        "      # set up the environment\n",
        "\n",
        "    def step(self, action):\n",
        "        # make the action have an impact on the environment\n",
        "        # and return the information the algorithms need\n",
        "        return observation, reward, done, info\n",
        "\n",
        "    def reset(self):\n",
        "        # reset this environment to the initial state and return the according observation\n",
        "        return observation\n",
        "\n",
        "    def render(self, mode='ansi'):\n",
        "        # spits out a human readable rendering of the environment\n",
        "        if mode == 'ansi':\n",
        "            return self._render_ansi()\n",
        "        if mode == 'human':\n",
        "            return self._render_human()            \n",
        "        elif mode == 'rgb_array':\n",
        "            return self._render_rgb() \n",
        "```\n",
        "\n",
        "https://gym.openai.com/\n",
        "\n",
        "https://github.com/openai/gym/blob/master/docs/creating-environments.md\n",
        "\n",
        "## Applying Reinforcement Learning to a problem\n",
        "\n",
        "* Is your problem approachable by Reinforcement Learning (more on that later)?\n",
        "  * Can you defined what would be the agent and what the environment?\n",
        "* You can simulate your environment or are able to safely perform a large number of experiments in the real world\n",
        "* You need to be able to define your problem as a Markov Decision Process (MDP)\n",
        "* Good sanity check: Would you as a human be able to play the game based on the observation and reward you get?\n",
        "* there are different kinds of observations\n",
        "  * fully observed environment (e.g. Jump'n'Run Game)\n",
        "  * partially observed environment (e.g. Ego Shooter)\n",
        "* Choose a proper Reinforcement Learning Algorithm (more on that later)\n",
        "\n",
        "## MDP: Markov Decision Process in Reinforcement Learning\n",
        "\n",
        "* https://en.wikipedia.org/wiki/Markov_decision_process\n",
        "* Model your observation in a way that which actions the agent took to get to a certain state are irrelevant\n",
        "* That means all information necessary to derive a proper action need to be in a single observation\n",
        "* The agents must not be forced to also learn the sequence of observations\n",
        "* E.g. the position of the PacMan is not enough. Which path taken results in where the ghosts are and what pills have been eaten"
      ]
    },
    {
      "cell_type": "code",
      "metadata": {
        "colab_type": "code",
        "id": "6yEvuCliwJiD",
        "pycharm": {
          "is_executing": false
        },
        "colab": {}
      },
      "source": [
        "import numpy as np\n",
        "import math\n",
        "\n",
        "import gym\n",
        "from gym import error, spaces, utils\n",
        "\n",
        "import matplotlib.pyplot as plt\n",
        "from IPython.display import display, clear_output\n",
        "\n",
        "LEFT = 0\n",
        "RIGHT = 1\n",
        "\n",
        "class LineWorldEnv(gym.Env):\n",
        "\n",
        "    # constructor sets up the properties of the environment\n",
        "    # most important action space, observation space and reward range\n",
        "    def __init__(self, state=[10, 0, 0, 5, 0, 2, 15]):\n",
        "        self.state = np.array(state)\n",
        "        # the agent can perform  different actions\n",
        "        number_of_actions = 2\n",
        "        self.action_space = spaces.Discrete(number_of_actions)\n",
        "\n",
        "        self.size_of_world = len(state)\n",
        "        \n",
        "        # CHANGE HERE START\n",
        "\n",
        "        # this needs to match size and range of what you return in\n",
        "        # get_observation \n",
        "        self.max_reward = 15\n",
        "        self.min_reward = 0\n",
        "        self.observation_size = 5\n",
        "\n",
        "        # CHANGE HERE END\n",
        "        \n",
        "        # the environment's state is described by the position of the agent and the remaining rewards\n",
        "        low = np.full(self.observation_size, self.min_reward)\n",
        "        high = np.full(self.observation_size, self.max_reward)\n",
        "        self.observation_space = spaces.Box(low=low,\n",
        "                                            high=high,\n",
        "                                            dtype=np.float32)\n",
        "\n",
        "        self.reward_range = (-1, 1)\n",
        "        # 32 is only theoretical, because we need to travel at least 9 steps, leaving us with 23 practically\n",
        "        self.optimum = self.state.sum() - 9\n",
        "\n",
        "        self._figure = None\n",
        "\n",
        "        self.reset()\n",
        "\n",
        "    # CHANGE HERE START\n",
        "\n",
        "    def get_observation(self):\n",
        "        # if you want to append too lists/arrays use np.append(list1, list2)\n",
        "        return np.full(self.observation_size, 0)\n",
        "\n",
        "    # CHANGE HERE END\n",
        "\n",
        "    def reset(self):\n",
        "        self.total_reward = 0\n",
        "        self.done = False\n",
        "        self.pos = math.floor(len(self.state) / 2)\n",
        "        self.steps = 0\n",
        "\n",
        "        self.remaining_rewards = np.array(self.state, copy=True)\n",
        "        return self.get_observation()\n",
        "\n",
        "    def step(self, action):\n",
        "        if action == LEFT and self.pos != 0:\n",
        "          self.pos -= 1\n",
        "        elif self.pos < self.size_of_world -1:\n",
        "          self.pos += 1\n",
        "\n",
        "        reward = self.remaining_rewards[self.pos] - 1\n",
        "        normalized_reward = reward / self.optimum\n",
        "        self.total_reward += normalized_reward\n",
        "        self.remaining_rewards[self.pos] = 0\n",
        "\n",
        "        if self.pos == 0 or self.total_reward * self.optimum <= -20:\n",
        "          self.done = True\n",
        "        self.steps += 1\n",
        "\n",
        "        observation = self.get_observation()\n",
        "        info = None\n",
        "        return observation, normalized_reward, self.done, info\n",
        "\n",
        "    def _render_to_ansi(self):\n",
        "        return 'position: {position}, remaining rewards: {rewards}, total reward so far: {total}, normalized total reward: {normalized_total}, steps so far: {steps}, game done: {done}'.format(\n",
        "            position=self.pos, \n",
        "            rewards=self.remaining_rewards, \n",
        "            total=self.total_reward * self.optimum, \n",
        "            normalized_total = self.total_reward,\n",
        "            done=self.done,\n",
        "            steps=self.steps)              \n",
        "\n",
        "    def _render_to_figure(self):\n",
        "        \"\"\" Renders the current state as a graph with matplotlib \"\"\"\n",
        "        if self._figure is not None:\n",
        "            plt.close(self._figure)\n",
        "        self._figure, ax = plt.subplots(1, figsize=(8, 4))\n",
        "        ax.set_ylim(bottom=-1, top=self.max_reward + 1)\n",
        "        x = np.arange(0, self.size_of_world, 1, dtype=np.uint8)\n",
        "        y = self.remaining_rewards\n",
        "        plt.plot([self.pos, self.pos], [0, 2], 'r^-')\n",
        "        ax.scatter(x, y, s=75)\n",
        "        self._figure.canvas.draw()\n",
        "        \n",
        "    def _render_to_human(self):\n",
        "        \"\"\" show render_to_figure in a jupyter cell. \n",
        "            the result of each call is rendered in the same cell\"\"\"\n",
        "        clear_output(wait=True)\n",
        "        self._render_to_figure()\n",
        "        plt.pause(0.01)\n",
        "        \n",
        "    def _render_to_rgb(self):\n",
        "        \"\"\" convert the output of render_to_figure to a rgb_array \"\"\"\n",
        "        self._render_to_figure()\n",
        "        self._figure.canvas.draw()\n",
        "        buf = self._figure.canvas.tostring_rgb()\n",
        "        num_cols, num_rows = self._figure.canvas.get_width_height()\n",
        "        plt.close(self._figure)\n",
        "        self._figure = None\n",
        "        result = np.fromstring(buf, dtype=np.uint8).reshape(num_rows, num_cols, 3)\n",
        "        return result        \n",
        "\n",
        "    def render(self, mode='ansi'):\n",
        "        if mode == 'ansi':\n",
        "            return self._render_to_ansi()\n",
        "        elif mode == 'human':\n",
        "            return self._render_to_human()\n",
        "        elif mode == 'rgb_array':\n",
        "            return self._render_to_rgb()\n",
        "        else:\n",
        "            super().render(mode=mode)\n"
      ],
      "execution_count": 0,
      "outputs": []
    },
    {
      "cell_type": "markdown",
      "metadata": {
        "colab_type": "text",
        "id": "D2aXwjnTc9LV"
      },
      "source": [
        "# Hands-On 1: Try out our environment\n",
        "\n",
        "_use yourself to simulate the agent_\n",
        "\n",
        "* Create an environment and play the game to the end manually using the cells below\n",
        "* Use a sequence of left and right commands to find the best solution possible\n",
        "* Show yourself only local observations and reward for each step and choose an action\n",
        "* Would this be sufficent for a good reward?\n",
        "* What reward do you get? What is the optimum?"
      ]
    },
    {
      "cell_type": "code",
      "metadata": {
        "colab_type": "code",
        "id": "_fHrBrxxI5Rt",
        "pycharm": {
          "is_executing": false
        },
        "colab": {}
      },
      "source": [
        "env = LineWorldEnv()"
      ],
      "execution_count": 0,
      "outputs": []
    },
    {
      "cell_type": "code",
      "metadata": {
        "colab_type": "code",
        "id": "SJARCo5U9PfR",
        "outputId": "9c5e55e6-5ee1-49e5-947f-d0fbb44fe345",
        "colab": {
          "base_uri": "https://localhost:8080/",
          "height": 34
        }
      },
      "source": [
        "# shows the raw observation, this does not look too good\n",
        "env.reset()"
      ],
      "execution_count": 8,
      "outputs": [
        {
          "output_type": "execute_result",
          "data": {
            "text/plain": [
              "array([0, 0, 0, 0, 0])"
            ]
          },
          "metadata": {
            "tags": []
          },
          "execution_count": 8
        }
      ]
    },
    {
      "cell_type": "code",
      "metadata": {
        "colab_type": "code",
        "id": "stTFpBh_9R6X",
        "outputId": "02b21abe-1075-4c46-aa61-b5f93ac413c2",
        "colab": {
          "base_uri": "https://localhost:8080/",
          "height": 34
        }
      },
      "source": [
        "# more complete and readable information\n",
        "env.render()"
      ],
      "execution_count": 9,
      "outputs": [
        {
          "output_type": "execute_result",
          "data": {
            "text/plain": [
              "'position: 3, remaining rewards: [10  0  0  5  0  2 15], total reward so far: 0, normalized total reward: 0, steps so far: 0, game done: False'"
            ]
          },
          "metadata": {
            "tags": []
          },
          "execution_count": 9
        }
      ]
    },
    {
      "cell_type": "code",
      "metadata": {
        "colab_type": "code",
        "id": "s2RYX2_2I5Ry",
        "outputId": "6b23594e-98a3-481e-b305-a47cfa98a0dc",
        "pycharm": {
          "is_executing": false,
          "name": "#%%\n"
        },
        "colab": {
          "base_uri": "https://localhost:8080/",
          "height": 34
        }
      },
      "source": [
        "env.step(LEFT)\n",
        "env.render()"
      ],
      "execution_count": 10,
      "outputs": [
        {
          "output_type": "execute_result",
          "data": {
            "text/plain": [
              "'position: 2, remaining rewards: [10  0  0  5  0  2 15], total reward so far: -1.0, normalized total reward: -0.043478260869565216, steps so far: 1, game done: False'"
            ]
          },
          "metadata": {
            "tags": []
          },
          "execution_count": 10
        }
      ]
    },
    {
      "cell_type": "code",
      "metadata": {
        "colab_type": "code",
        "id": "JdHyE42vBhbC",
        "outputId": "e832109b-9849-493e-8ac2-0823a686ac24",
        "colab": {
          "base_uri": "https://localhost:8080/",
          "height": 34
        }
      },
      "source": [
        "env.step(RIGHT)\n",
        "env.render()"
      ],
      "execution_count": 11,
      "outputs": [
        {
          "output_type": "execute_result",
          "data": {
            "text/plain": [
              "'position: 3, remaining rewards: [10  0  0  0  0  2 15], total reward so far: 3.0, normalized total reward: 0.13043478260869565, steps so far: 2, game done: False'"
            ]
          },
          "metadata": {
            "tags": []
          },
          "execution_count": 11
        }
      ]
    },
    {
      "cell_type": "code",
      "metadata": {
        "colab_type": "code",
        "id": "RvfFHbSfckCy",
        "outputId": "17a0f5be-c5a8-4bbe-b0b3-a3990869ab36",
        "colab": {
          "base_uri": "https://localhost:8080/",
          "height": 269
        }
      },
      "source": [
        "env.render(mode='human')"
      ],
      "execution_count": 12,
      "outputs": [
        {
          "output_type": "display_data",
          "data": {
            "image/png": "[encoded data removed]",
            "text/plain": [
              "<Figure size 576x288 with 1 Axes>"
            ]
          },
          "metadata": {
            "tags": []
          }
        }
      ]
    },
    {
      "cell_type": "markdown",
      "metadata": {
        "id": "UYIx2ER7dCkX",
        "colab_type": "text"
      },
      "source": [
        "### Register with OpenAI Gym"
      ]
    },
    {
      "cell_type": "code",
      "metadata": {
        "colab_type": "code",
        "id": "OS3pnnbAI5R9",
        "pycharm": {
          "is_executing": false
        },
        "colab": {}
      },
      "source": [
        "from easyagents.easyenv import register_with_gym\n",
        "\n",
        "env_name=\"LineWorld-v0\"\n",
        "register_with_gym(gym_env_name=env_name, entry_point=LineWorldEnv, max_episode_steps=100)"
      ],
      "execution_count": 0,
      "outputs": []
    },
    {
      "cell_type": "markdown",
      "metadata": {
        "colab_type": "text",
        "id": "_uEfpOeeI5R8"
      },
      "source": [
        "# Train policy with tfagents PpoAgent"
      ]
    },
    {
      "cell_type": "code",
      "metadata": {
        "colab_type": "code",
        "id": "gFISrkwhI5SZ",
        "outputId": "51526108-cff9-4f9a-b4d8-92c0a9b5fd11",
        "pycharm": {
          "is_executing": false
        },
        "colab": {
          "base_uri": "https://localhost:8080/",
          "height": 413
        }
      },
      "source": [
        "%%time\n",
        "\n",
        "from easyagents.tfagents import PpoAgent\n",
        "from easyagents.config import Training\n",
        "\n",
        "training=Training( num_iterations = 50,\n",
        "                   num_episodes_per_iteration = 10,\n",
        "                   max_steps_per_episode = 50,\n",
        "                   num_epochs_per_iteration = 5 )\n",
        "\n",
        "ppoAgent = PpoAgent(    gym_env_name = env_name,\n",
        "                        fc_layers=(500,500), \n",
        "                        training=training,\n",
        "                        learning_rate=1e-4\n",
        "                   )\n",
        "ppoAgent.train()"
      ],
      "execution_count": 14,
      "outputs": [
        {
          "output_type": "display_data",
          "data": {
            "image/png": "[encoded data removed]",
            "text/plain": [
              "<Figure size 1224x360 with 4 Axes>"
            ]
          },
          "metadata": {
            "tags": []
          }
        },
        {
          "output_type": "stream",
          "text": [
            "CPU times: user 1min 59s, sys: 3.18 s, total: 2min 2s\n",
            "Wall time: 1min 55s\n"
          ],
          "name": "stdout"
        }
      ]
    },
    {
      "cell_type": "code",
      "metadata": {
        "colab_type": "code",
        "id": "2oeN8hhRJqMr",
        "outputId": "356ccdec-0a7d-4496-ed74-500f945cf018",
        "colab": {
          "base_uri": "https://localhost:8080/",
          "height": 269
        }
      },
      "source": [
        "ppoAgent.render_episodes(num_episodes=1)"
      ],
      "execution_count": 17,
      "outputs": [
        {
          "output_type": "display_data",
          "data": {
            "image/png": "[encoded data removed]",
            "text/plain": [
              "<Figure size 576x288 with 1 Axes>"
            ]
          },
          "metadata": {
            "tags": []
          }
        }
      ]
    },
    {
      "cell_type": "code",
      "metadata": {
        "id": "NmfeFqVmpQbJ",
        "colab_type": "code",
        "colab": {
          "base_uri": "https://localhost:8080/",
          "height": 501
        },
        "outputId": "bca6c24d-0c91-4c72-85d7-a2460a2009ea"
      },
      "source": [
        "ppoAgent.render_episodes_to_jupyter(num_episodes=1, fps=1)"
      ],
      "execution_count": 18,
      "outputs": [
        {
          "output_type": "display_data",
          "data": {
            "text/html": [
              "\n",
              "        <video width=\"640\" height=\"480\" controls>\n",
              "            <source src=\"data:video/mp4;base64,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\" type=\"video/mp4\">\n",
              "        Your browser does not support the video tag.\n",
              "        </video>"
            ],
            "text/plain": [
              "<IPython.core.display.HTML object>"
            ]
          },
          "metadata": {
            "tags": []
          }
        }
      ]
    },
    {
      "cell_type": "markdown",
      "metadata": {
        "colab_type": "text",
        "id": "HRoljypzdBML"
      },
      "source": [
        "# Hands-On 2: Define the observation in a way that allows the agent to train\n",
        "\n",
        "* You see the agent does not learn with the observation given. Why is that?\n",
        "\n",
        "* Find an observation that works and impement it in `get_observation`\n",
        "\n",
        "*  You need to update the `observation_space` to the same shape of your observation at the same time.\n",
        "\n",
        "* Why does it work? Is this the best observation? How would you even know?\n",
        "\n",
        "* Do you think this would be sufficient for a real world example? If not, what is missing?\n",
        "\n",
        " # STOP HERE"
      ]
    },
    {
      "cell_type": "markdown",
      "metadata": {
        "colab_type": "text",
        "id": "OgVJIrHb8vyF"
      },
      "source": [
        "# Generalizing our Environment\n",
        "\n",
        "* solving a single set up of our line world is not very realistic\n",
        "* there should be variations to rewards, size, and starting position\n",
        "* while training with with each episode we could randomly set rewards and starting postition\n",
        "* different sizes could be simulated by using a fixed max size with a random number of padding entires (e.g -1) at the end\n"
      ]
    },
    {
      "cell_type": "markdown",
      "metadata": {
        "colab_type": "text",
        "id": "MDOWfWAmc8mx"
      },
      "source": [
        "# How does Reinforcement Learning really work?\n",
        "\n",
        "Presentation on slides"
      ]
    },
    {
      "cell_type": "markdown",
      "metadata": {
        "colab_type": "text",
        "id": "0uotjTcRgE2P"
      },
      "source": [
        "# Hands-On 3: Make your notebook work with Reinforce\n",
        "\n",
        "* What parts do you need to change?\n",
        "\n",
        "* How do the results compare to what you have seen with PPO?\n",
        "\n",
        "* Can you tweak the parameters (like the size of the neural network) to improve the results?\n"
      ]
    },
    {
      "cell_type": "code",
      "metadata": {
        "id": "IpNcF2PCaGUB",
        "colab_type": "code",
        "colab": {}
      },
      "source": [
        "from easyagents.tfagents import ReinforceAgent\n",
        "ReinforceAgent?"
      ],
      "execution_count": 0,
      "outputs": []
    }
  ]
}